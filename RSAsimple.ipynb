{
 "cells": [
  {
   "cell_type": "markdown",
   "id": "f4b3ae77",
   "metadata": {},
   "source": [
    "<table>\n",
    "<tr><td><img style=\"height: 150px;\" src=\"images/geo_hydro1.jpg\"></td>\n",
    "<td bgcolor=\"#FFFFFF\">\n",
    "    <p style=\"font-size: xx-large; font-weight: 900; line-height: 100%\">AG Dynamics of the Earth</p>\n",
    "    <p style=\"font-size: large; color: rgba(0,0,0,0.5);\">Juypter notebooks</p>\n",
    "    <p style=\"font-size: large; color: rgba(0,0,0,0.5);\">Georg Kaufmann</p>\n",
    "    </td>\n",
    "</tr>\n",
    "</table>"
   ]
  },
  {
   "cell_type": "markdown",
   "id": "8f659d91",
   "metadata": {},
   "source": [
    "# RSA cryption\n",
    "----\n",
    "\n",
    "In this notebook, we introduce and discuss the **RSA crypto scheme**, which has been\n",
    "named from the initials of its inventors, Rivest–Shamir–Adleman.\n",
    "\n",
    "It is widely used for cryting messages and signatures, using a\n",
    "**public-private key** pair.\n",
    "\n",
    "It is based on the fact, that some operations, such as **prime factorisation** of a larger\n",
    "integer number, is very tedious, but recovering the number from **multiplication** of\n",
    "the primes is easy.\n",
    "\n",
    "This asymmetric behaviour is also known as **one-way function**: Easy to calculate in\n",
    "the forward direction, difficult in the reverse direction."
   ]
  },
  {
   "cell_type": "markdown",
   "id": "37276b5a",
   "metadata": {},
   "source": [
    "----\n",
    "## Key generation\n",
    "\n",
    "[See also wikipedia...](https://en.wikipedia.org/wiki/RSA_(cryptosystem))\n",
    "\n",
    "- Choose two large prime numbers, $p$ and $q$, with $0.1 < |\\log p - \\log q| < 30$\n",
    "- Calculate RSA module $n=p q$\n",
    "- Calculate Euler function $\\Phi(n)=(p-1)(q-1)$\n",
    "- Choose integer number $e$, which is coprime to both $p-1$ and $q-1$\n",
    "- Calculate $d$ as modular inverse $d$, thus $e d \\equiv 1 \\mbox{ mod } \\Phi(n)$ has to hold.\n",
    "\n",
    "Then, we have obtained the **public-private key pair**:\n",
    "- **public key:** $(n,e)$\n",
    "- **private key:** $(n,d)$"
   ]
  },
  {
   "cell_type": "markdown",
   "id": "d59b6a0a",
   "metadata": {},
   "source": [
    "----\n",
    "### Example\n",
    "\n",
    "- $p=11$, $q=13$\n",
    "- $n=11 \\cdot 13=143$\n",
    "- $e=23$\n",
    "    - $e$ is coprime to $p-1$\n",
    "    - $e$ is coprime to $q-1$\n",
    "- $\\phi=(11-1)(13-1)=10*12=120$\n",
    "- $d=47$ (from modular inverse ...)\n",
    "\n",
    "Thus, we find as\n",
    "- **public key:** $(143,23)$\n",
    "- **private key:** $(143,47)$"
   ]
  },
  {
   "cell_type": "code",
   "execution_count": 1,
   "id": "3167e53b",
   "metadata": {},
   "outputs": [],
   "source": [
    "import numpy as np\n",
    "import myCrypt"
   ]
  },
  {
   "cell_type": "code",
   "execution_count": 2,
   "id": "ea0742ed",
   "metadata": {},
   "outputs": [
    {
     "name": "stdout",
     "output_type": "stream",
     "text": [
      "e= 23  is coprime to p-1= 10\n",
      "e= 23  is coprime to q-1= 12\n",
      "public key:   (1, 143, 23)\n",
      "private key:  (1, 143, 47)\n"
     ]
    }
   ],
   "source": [
    "keySize=1\n",
    "p=11;q=13\n",
    "\n",
    "n=p*q\n",
    "phi=(p-1)*(q-1)\n",
    "e = 23\n",
    "\n",
    "# check if e is coprime to (p-1) and (q-1)\n",
    "if (myCrypt.greatestCommonDivisor(e,(p-1))==1):\n",
    "    print('e=',e,' is coprime to p-1=',p-1)\n",
    "if (myCrypt.greatestCommonDivisor(e,(q-1))==1):\n",
    "    print('e=',e,' is coprime to q-1=',q-1)\n",
    "\n",
    "# calculate d from modular inverse (in pow since python 3.8)\n",
    "d = pow(e,-1,phi)\n",
    "\n",
    "publicKey = (keySize,n,e)\n",
    "privateKey = (keySize,n,d)\n",
    "\n",
    "print('public key:  ',publicKey)\n",
    "print('private key: ',privateKey)"
   ]
  },
  {
   "cell_type": "markdown",
   "id": "1859fd6b",
   "metadata": {},
   "source": [
    "modular inverse [from wikibooks](https://en.wikibooks.org/wiki/Algorithm_Implementation/Mathematics/Extended_Euclidean_algorithm)"
   ]
  },
  {
   "cell_type": "code",
   "execution_count": 3,
   "id": "42471b02",
   "metadata": {},
   "outputs": [
    {
     "data": {
      "text/plain": [
       "47"
      ]
     },
     "execution_count": 3,
     "metadata": {},
     "output_type": "execute_result"
    }
   ],
   "source": [
    "def egcd(a, b):\n",
    "    if a == 0:\n",
    "        return (b, 0, 1)\n",
    "    else:\n",
    "        g, y, x = egcd(b % a, a)\n",
    "        return (g, x - (b // a) * y, y)\n",
    "    \n",
    "def xgcd(a,b):\n",
    "    prevx, x = 1, 0; prevy, y = 0, 1\n",
    "    while b:\n",
    "        q = a/b\n",
    "        x, prevx = prevx - q*x, x\n",
    "        y, prevy = prevy - q*y, y\n",
    "        a, b = b, a % b\n",
    "    return a, prevx, prevy\n",
    "\n",
    "def modinv(a, m):\n",
    "    g, x, y = egcd(a, m)\n",
    "    if g != 1:\n",
    "        raise Exception('modular inverse does not exist')\n",
    "    else:\n",
    "        return x % m\n",
    "    \n",
    "modinv(e,phi)"
   ]
  },
  {
   "cell_type": "markdown",
   "id": "9ca93d77",
   "metadata": {},
   "source": [
    "----\n",
    "## Encrypt\n",
    "\n",
    "A **message** $m$ will be encrypted to a crypted message $c$, using the public key:\n",
    "$$\n",
    "c = m^e \\mbox{ mod } n\n",
    "$$"
   ]
  },
  {
   "cell_type": "code",
   "execution_count": 4,
   "id": "b107fdf4",
   "metadata": {},
   "outputs": [
    {
     "name": "stdout",
     "output_type": "stream",
     "text": [
      "52 Allwissend bin ich nicht; doch viel ist mir bewusst!\n"
     ]
    }
   ],
   "source": [
    "message = \"Allwissend bin ich nicht; doch viel ist mir bewusst!\"\n",
    "L=len(message)\n",
    "print(L,message)"
   ]
  },
  {
   "cell_type": "code",
   "execution_count": 5,
   "id": "b8976da6",
   "metadata": {},
   "outputs": [
    {
     "name": "stdout",
     "output_type": "stream",
     "text": [
      "[65, 36, 36, 124, 40, 136, 136, 30, 11, 133, 76, 54, 40, 11, 76, 40, 44, 26, 76, 11, 40, 44, 26, 51, 119, 76, 133, 67, 44, 26, 76, 105, 40, 30, 36, 76, 40, 136, 51, 76, 21, 40, 108, 76, 54, 30, 124, 13, 136, 136, 51, 132]\n"
     ]
    }
   ],
   "source": [
    "def encrypt(message,publicKey,debug=False):\n",
    "    \"\"\"\n",
    "    RSA encryption of a string, using the locale\n",
    "    \"\"\"\n",
    "    keySize,n,e = publicKey\n",
    "    messageBytes = message.encode()\n",
    "    encrypt = []\n",
    "    for byte in messageBytes:\n",
    "        # encrypt with public key\n",
    "        encrypt.append(pow(byte,e,n))\n",
    "    if (debug):\n",
    "        print(encrypt)\n",
    "    return encrypt\n",
    "\n",
    "crypted_message = encrypt(message,publicKey)\n",
    "print(crypted_message)"
   ]
  },
  {
   "cell_type": "markdown",
   "id": "810f3c38",
   "metadata": {},
   "source": [
    "----\n",
    "## Decrypt\n",
    "\n",
    "A **crypted message** $c$ will be decrypted to a message $m$, using the private key:\n",
    "$$\n",
    "m = c^d \\mbox{ mod } n\n",
    "$$"
   ]
  },
  {
   "cell_type": "code",
   "execution_count": 6,
   "id": "15cb1b0c",
   "metadata": {},
   "outputs": [
    {
     "name": "stdout",
     "output_type": "stream",
     "text": [
      "Allwissend bin ich nicht; doch viel ist mir bewusst!\n"
     ]
    }
   ],
   "source": [
    "def decrypt(crypted_message,privateKey,debug=False):\n",
    "    \"\"\"\n",
    "    RSA encryption of a string, using the locale\n",
    "    \"\"\"\n",
    "    keySize,n,d = privateKey\n",
    "    decrypt = []\n",
    "    for byte in crypted_message:\n",
    "        decrypt.append(pow(byte,d,n))\n",
    "    if (debug):\n",
    "        print(decrypt)\n",
    "    return bytearray(decrypt).decode()\n",
    "\n",
    "decrypted_message = decrypt(crypted_message,privateKey,debug=False)\n",
    "print(decrypted_message)"
   ]
  },
  {
   "cell_type": "markdown",
   "id": "12bb0e40",
   "metadata": {},
   "source": [
    "And longer text ..."
   ]
  },
  {
   "cell_type": "code",
   "execution_count": 7,
   "id": "c2546dc5",
   "metadata": {},
   "outputs": [
    {
     "name": "stdout",
     "output_type": "stream",
     "text": [
      "=original=\n",
      "Am farbigen Abglanz haben wir das Leben.\n",
      "Allwissend bin ich nicht; doch viel ist mir bewusst!\n",
      "Alt wird man wohl, wer aber klug?\n",
      "Von Zeit zu Zeit seh'ich den Alten gern und hüte mich, mit ihm zu brechen.\n",
      "Anmut bringen wir ins Leben. Leget Anmut in das Geben. Leget Anmut ins Empfangen, Lieblich ist's, den Wunsch erlangen. Und in stiller Tage Schranken. Höchst anmutig sei das Danken.\n",
      "Mein schönes Fräulein, darf ich wagen, Meinen Arm und Geleit Ihr anzutragen?\n",
      "Was glänzt, ist für den Augenblick geboren.\n",
      "Wo so ein Köpfchen keinen Ausgang sieht, stellt es sich gleich das Ende vor.\n",
      "Hoch ist der Doppelgewinn zu schätzen, barmherzig sein und sich zugleich ergetzen.\n",
      "Wer immer strebend sich bemüht, den können wir erlösen.\n",
      "- Johann Wolfgang von Goethe\n",
      "=recovered=\n",
      "Am farbigen Abglanz haben wir das Leben.\n",
      "Allwissend bin ich nicht; doch viel ist mir bewusst!\n",
      "Alt wird man wohl, wer aber klug?\n",
      "Von Zeit zu Zeit seh'ich den Alten gern und h4-te mich, mit ihm zu brechen.\n",
      "Anmut bringen wir ins Leben. Leget Anmut in das Geben. Leget Anmut ins Empfangen, Lieblich ist's, den Wunsch erlangen. Und in stiller Tage Schranken. H4'chst anmutig sei das Danken.\n",
      "Mein sch4'nes Fr4\u0015ulein, darf ich wagen, Meinen Arm und Geleit Ihr anzutragen?\n",
      "Was gl4\u0015nzt, ist f4-r den Augenblick geboren.\n",
      "Wo so ein K4'pfchen keinen Ausgang sieht, stellt es sich gleich das Ende vor.\n",
      "Hoch ist der Doppelgewinn zu sch4\u0015tzen, barmherzig sein und sich zugleich ergetzen.\n",
      "Wer immer strebend sich bem4-ht, den k4'nnen wir erl4'sen.\n",
      "- Johann Wolfgang von Goethe\n"
     ]
    }
   ],
   "source": [
    "message = \"Am farbigen Abglanz haben wir das Leben.\\n\"\n",
    "message += \"Allwissend bin ich nicht; doch viel ist mir bewusst!\\n\"\n",
    "message += \"Alt wird man wohl, wer aber klug?\\n\"\n",
    "message += \"Von Zeit zu Zeit seh'ich den Alten gern und hüte mich, mit ihm zu brechen.\\n\"\n",
    "message += \"Anmut bringen wir ins Leben. Leget Anmut in das Geben. Leget Anmut ins Empfangen, Lieblich ist's, den Wunsch erlangen. Und in stiller Tage Schranken. Höchst anmutig sei das Danken.\\n\"\n",
    "message += \"Mein schönes Fräulein, darf ich wagen, Meinen Arm und Geleit Ihr anzutragen?\\n\"\n",
    "message += \"Was glänzt, ist für den Augenblick geboren.\\n\"\n",
    "message += \"Wo so ein Köpfchen keinen Ausgang sieht, stellt es sich gleich das Ende vor.\\n\"\n",
    "message += \"Hoch ist der Doppelgewinn zu schätzen, barmherzig sein und sich zugleich ergetzen.\\n\"\n",
    "message += \"Wer immer strebend sich bemüht, den können wir erlösen.\\n\"\n",
    "message += \"- Johann Wolfgang von Goethe\"\n",
    "print('=original=')\n",
    "print(message)\n",
    "\n",
    "crypted_message = encrypt(message,publicKey)\n",
    "decrypted_message = decrypt(crypted_message,privateKey)\n",
    "print('=recovered=')\n",
    "print(decrypted_message)"
   ]
  },
  {
   "cell_type": "markdown",
   "id": "63e1816f",
   "metadata": {},
   "source": [
    "----"
   ]
  }
 ],
 "metadata": {
  "kernelspec": {
   "display_name": "Python 3 (ipykernel)",
   "language": "python",
   "name": "python3"
  },
  "language_info": {
   "codemirror_mode": {
    "name": "ipython",
    "version": 3
   },
   "file_extension": ".py",
   "mimetype": "text/x-python",
   "name": "python",
   "nbconvert_exporter": "python",
   "pygments_lexer": "ipython3",
   "version": "3.10.8"
  }
 },
 "nbformat": 4,
 "nbformat_minor": 5
}
