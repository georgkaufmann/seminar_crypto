{
 "cells": [
  {
   "cell_type": "markdown",
   "id": "f4b3ae77",
   "metadata": {},
   "source": [
    "<table>\n",
    "<tr><td><img style=\"height: 150px;\" src=\"images/geo_hydro1.jpg\"></td>\n",
    "<td bgcolor=\"#FFFFFF\">\n",
    "    <p style=\"font-size: xx-large; font-weight: 900; line-height: 100%\">AG Dynamics of the Earth</p>\n",
    "    <p style=\"font-size: large; color: rgba(0,0,0,0.5);\">Juypter notebooks</p>\n",
    "    <p style=\"font-size: large; color: rgba(0,0,0,0.5);\">Georg Kaufmann</p>\n",
    "    </td>\n",
    "</tr>\n",
    "</table>"
   ]
  },
  {
   "cell_type": "markdown",
   "id": "8f659d91",
   "metadata": {},
   "source": [
    "# RSA cryption\n",
    "----\n",
    "\n",
    "In this notebook, we introduce and discuss the **RSA crypto scheme**, which has been\n",
    "named from the initials of its inventors, Rivest–Shamir–Adleman.\n",
    "\n",
    "It is widely used for cryting messages and signatures, using a\n",
    "**public-private key** pair.\n",
    "\n",
    "It is based on the fact, that some operations, such as **prime factorisation** of a larger\n",
    "integer number, is very tedious, but recovering the number from **multiplication** of\n",
    "the primes is easy.\n",
    "\n",
    "This asymmetric behaviour is also known as **one-way function**: Easy to calculate in\n",
    "the forward direction, difficult in the reverse direction."
   ]
  },
  {
   "cell_type": "markdown",
   "id": "37276b5a",
   "metadata": {},
   "source": [
    "----\n",
    "## Key generation\n",
    "\n",
    "[See also wikipedia...](https://en.wikipedia.org/wiki/RSA_(cryptosystem))\n",
    "\n",
    "- Choose two large prime numbers, $p$ and $q$, with $0.1 < |\\log p - \\log q| < 30$\n",
    "- Calculate RSA module $n=p q$\n",
    "- Calculate Euler function $\\Phi(n)=(p-1)(q-1)$\n",
    "- Choose integer number $e$, which is coprime to both $p-1$ and $q-1$\n",
    "- Calculate $d$ as modular inverse $d$, thus $e d \\equiv 1 \\mbox{ mod } \\Phi(n)$ has to hold.\n",
    "\n",
    "Then, we have obtained the **public-private key pair**:\n",
    "- **public key:** $(n,e)$\n",
    "- **private key:** $(n,d)$"
   ]
  },
  {
   "cell_type": "markdown",
   "id": "821de512",
   "metadata": {},
   "source": [
    "----\n",
    "### Example\n",
    "\n",
    "- $p=11$, $q=13$\n",
    "- $n=11 \\cdot 13=143$\n",
    "- $e=23$\n",
    "    - $e$ is coprime to $p-1$\n",
    "    - $e$ is coprime to $q-1$\n",
    "- $\\phi=(11-1)(13-1)=10*12=120$\n",
    "- $d=47$ (from modular inverse ...)\n",
    "\n",
    "Thus, we find as\n",
    "- **public key:** $(143,23)$\n",
    "- **private key:** $(143,47)$"
   ]
  },
  {
   "cell_type": "code",
   "execution_count": 10,
   "id": "bd09f19c",
   "metadata": {},
   "outputs": [],
   "source": [
    "import numpy as np\n",
    "import myCrypt"
   ]
  },
  {
   "cell_type": "code",
   "execution_count": 42,
   "id": "fa6ac3d2",
   "metadata": {},
   "outputs": [
    {
     "name": "stdout",
     "output_type": "stream",
     "text": [
      "e= 23  is coprime to p-1= 10\n",
      "e= 23  is coprime to q-1= 12\n",
      "public key:   (143, 23)\n",
      "private key:  (143, 47)\n"
     ]
    }
   ],
   "source": [
    "p=11;q=13\n",
    "\n",
    "n=p*q\n",
    "phi=(p-1)*(q-1)\n",
    "e = 23\n",
    "\n",
    "# check if e is coprime to (p-1) and (q-1)\n",
    "if (myCrypt.greatestCommonDivisor(e,(p-1))==1):\n",
    "    print('e=',e,' is coprime to p-1=',p-1)\n",
    "if (myCrypt.greatestCommonDivisor(e,(q-1))==1):\n",
    "    print('e=',e,' is coprime to q-1=',q-1)\n",
    "\n",
    "# calculate d from modular inverse (in pow since python 3.8)\n",
    "d = pow(e,-1,phi)\n",
    "\n",
    "publicKey = (n,e)\n",
    "privateKey = (n,d)\n",
    "\n",
    "print('public key:  ',publicKey)\n",
    "print('private key: ',privateKey)"
   ]
  },
  {
   "cell_type": "markdown",
   "id": "0550207a",
   "metadata": {},
   "source": [
    "modular inverse [from wikibooks](https://en.wikibooks.org/wiki/Algorithm_Implementation/Mathematics/Extended_Euclidean_algorithm)"
   ]
  },
  {
   "cell_type": "code",
   "execution_count": 43,
   "id": "4206c2d8",
   "metadata": {},
   "outputs": [
    {
     "data": {
      "text/plain": [
       "47"
      ]
     },
     "execution_count": 43,
     "metadata": {},
     "output_type": "execute_result"
    }
   ],
   "source": [
    "def egcd(a, b):\n",
    "    if a == 0:\n",
    "        return (b, 0, 1)\n",
    "    else:\n",
    "        g, y, x = egcd(b % a, a)\n",
    "        return (g, x - (b // a) * y, y)\n",
    "    \n",
    "def xgcd(a,b):\n",
    "    prevx, x = 1, 0; prevy, y = 0, 1\n",
    "    while b:\n",
    "        q = a/b\n",
    "        x, prevx = prevx - q*x, x\n",
    "        y, prevy = prevy - q*y, y\n",
    "        a, b = b, a % b\n",
    "    return a, prevx, prevy\n",
    "\n",
    "def modinv(a, m):\n",
    "    g, x, y = egcd(a, m)\n",
    "    if g != 1:\n",
    "        raise Exception('modular inverse does not exist')\n",
    "    else:\n",
    "        return x % m\n",
    "    \n",
    "modinv(e,phi)"
   ]
  },
  {
   "cell_type": "markdown",
   "id": "e4d3c329",
   "metadata": {},
   "source": [
    "----\n",
    "## Encrypt\n",
    "\n",
    "A **message** $m$ will be encrypted to a crypted message $c$, using the public key:\n",
    "$$\n",
    "c = m^e \\mbox{ mod } n\n",
    "$$"
   ]
  },
  {
   "cell_type": "code",
   "execution_count": 44,
   "id": "e3d7a1d8",
   "metadata": {},
   "outputs": [
    {
     "name": "stdout",
     "output_type": "stream",
     "text": [
      "52 Allwissend bin ich nicht; doch viel ist mir bewusst!\n"
     ]
    }
   ],
   "source": [
    "message = \"Allwissend bin ich nicht; doch viel ist mir bewusst!\"\n",
    "L=len(message)\n",
    "print(L,message)"
   ]
  },
  {
   "cell_type": "code",
   "execution_count": 61,
   "id": "5c94ff2a",
   "metadata": {},
   "outputs": [
    {
     "name": "stdout",
     "output_type": "stream",
     "text": [
      "065036036124040136136030011133076054040011076040044026076011040044026051119076133067044026076105040030036076040136051076021040108076054030124013136136051132\n"
     ]
    }
   ],
   "source": [
    "def encrypt(message,publicKey):\n",
    "    \"\"\"\n",
    "    RSA encryption of a string, using the locale\n",
    "    \"\"\"\n",
    "    unicode = ''\n",
    "    encrypt = ''\n",
    "    for i in range(len(message)):\n",
    "        # get unicode position of character\n",
    "        unicode += str(ord(message[i])).zfill(3)\n",
    "        # encrypt with public key\n",
    "        encrypt += str(ord(message[i])**publicKey[1] % publicKey[0]).zfill(3)\n",
    "    return encrypt\n",
    "\n",
    "crypted_message = encrypt(message,publicKey)\n",
    "print(crypted_message)"
   ]
  },
  {
   "cell_type": "code",
   "execution_count": 51,
   "id": "c31add7b",
   "metadata": {},
   "outputs": [
    {
     "name": "stdout",
     "output_type": "stream",
     "text": [
      "065108108119105115115101110100032098105110032105099104032110105099104116059032100111099104032118105101108032105115116032109105114032098101119117115115116033\n",
      "065036036124040136136030011133076054040011076040044026076011040044026051119076133067044026076105040030036076040136051076021040108076054030124013136136051132\n"
     ]
    }
   ],
   "source": [
    "unicode = ''\n",
    "encrypt = ''\n",
    "for i in range(len(message)):\n",
    "    unicode += str(ord(message[i])).zfill(3)\n",
    "    encrypt += str(ord(message[i])**e % n).zfill(3)\n",
    "    \n",
    "print(unicode)\n",
    "print(encrypt)"
   ]
  },
  {
   "cell_type": "code",
   "execution_count": 48,
   "id": "f6e36be1",
   "metadata": {},
   "outputs": [
    {
     "name": "stdout",
     "output_type": "stream",
     "text": [
      "065108108119105115115101110100\n",
      "032098105110032105099104032\n",
      "110105099104116059032100111\n",
      "099104032118105101108032105\n",
      "115116032109105114032098101\n",
      "119117115115116033\n"
     ]
    }
   ],
   "source": [
    "toCrypt = ''\n",
    "for i in range(len(message)):\n",
    "    if (i%9==0 and i!=0):\n",
    "        toCrypt += str(ord(message[i])).zfill(3)+'\\n'\n",
    "    else:\n",
    "        toCrypt += str(ord(message[i])).zfill(3)\n",
    "    #print(i,message[i],str(ord(message[i])).zfill(3))\n",
    "\n",
    "\n",
    "print(toCrypt)"
   ]
  },
  {
   "cell_type": "markdown",
   "id": "0843b70c",
   "metadata": {},
   "source": [
    "----\n",
    "## Decrypt\n",
    "\n",
    "A **crypted message** $c$ will be decrypted to a message $m$, using the private key:\n",
    "$$\n",
    "m = c^d \\mbox{ mod } n\n",
    "$$"
   ]
  },
  {
   "cell_type": "code",
   "execution_count": 68,
   "id": "f4d27e2e",
   "metadata": {},
   "outputs": [
    {
     "name": "stdout",
     "output_type": "stream",
     "text": [
      "Allwissend bin ich nicht; doch viel ist mir bewusst!\n"
     ]
    }
   ],
   "source": [
    "def decrypt(message,privateKey):\n",
    "    \"\"\"\n",
    "    RSA encryption of a string, using the locale\n",
    "    \"\"\"\n",
    "    decrypted_message = ''\n",
    "    # separate crypted string into blocks of three, the locale positions\n",
    "    res = [message[i:i+3] for i in range(0,len(message),3)]\n",
    "    # loop over all characters\n",
    "    for i in range(len(res)):\n",
    "        pos= int(res[i])**privateKey[1] % privateKey[0]\n",
    "        # convert to character from locale\n",
    "        character = chr(pos)\n",
    "        decrypted_message += str(character)\n",
    "    return decrypted_message\n",
    "\n",
    "decrypted_message = decrypt(crypted_message,privateKey)\n",
    "print(decrypted_message)"
   ]
  },
  {
   "cell_type": "code",
   "execution_count": 57,
   "id": "f54854b4",
   "metadata": {},
   "outputs": [
    {
     "name": "stdout",
     "output_type": "stream",
     "text": [
      "['065', '036', '036', '124', '040', '136', '136', '030', '011', '133', '076', '054', '040', '011', '076', '040', '044', '026', '076', '011', '040', '044', '026', '051', '119', '076', '133', '067', '044', '026', '076', '105', '040', '030', '036', '076', '040', '136', '051', '076', '021', '040', '108', '076', '054', '030', '124', '013', '136', '136', '051', '132']\n",
      "Allwissend bin ich nicht; doch viel ist mir bewusst!\n"
     ]
    }
   ],
   "source": [
    "decrypted = ''\n",
    "res = [encrypt[i:i+3] for i in range(0,len(encrypt),3)]\n",
    "print(res)\n",
    "for i in range(len(res)):\n",
    "    pos= int(res[i])**d % n\n",
    "    character = chr(pos)\n",
    "    decrypted += str(character)\n",
    "    \n",
    "print(decrypted)"
   ]
  },
  {
   "cell_type": "code",
   "execution_count": 3,
   "id": "6d6c62fc",
   "metadata": {},
   "outputs": [],
   "source": [
    "import numpy as np\n",
    "import sys"
   ]
  },
  {
   "cell_type": "markdown",
   "id": "63e1816f",
   "metadata": {},
   "source": [
    "----"
   ]
  }
 ],
 "metadata": {
  "kernelspec": {
   "display_name": "Python 3 (ipykernel)",
   "language": "python",
   "name": "python3"
  },
  "language_info": {
   "codemirror_mode": {
    "name": "ipython",
    "version": 3
   },
   "file_extension": ".py",
   "mimetype": "text/x-python",
   "name": "python",
   "nbconvert_exporter": "python",
   "pygments_lexer": "ipython3",
   "version": "3.10.8"
  }
 },
 "nbformat": 4,
 "nbformat_minor": 5
}
