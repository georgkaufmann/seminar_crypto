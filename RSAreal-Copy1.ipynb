{
 "cells": [
  {
   "cell_type": "markdown",
   "id": "f4b3ae77",
   "metadata": {},
   "source": [
    "<table>\n",
    "<tr><td><img style=\"height: 150px;\" src=\"images/geo_hydro1.jpg\"></td>\n",
    "<td bgcolor=\"#FFFFFF\">\n",
    "    <p style=\"font-size: xx-large; font-weight: 900; line-height: 100%\">AG Dynamics of the Earth</p>\n",
    "    <p style=\"font-size: large; color: rgba(0,0,0,0.5);\">Juypter notebooks</p>\n",
    "    <p style=\"font-size: large; color: rgba(0,0,0,0.5);\">Georg Kaufmann</p>\n",
    "    </td>\n",
    "</tr>\n",
    "</table>"
   ]
  },
  {
   "cell_type": "markdown",
   "id": "8f659d91",
   "metadata": {},
   "source": [
    "# RSA cryption\n",
    "----\n",
    "\n",
    "In this notebook, we introduce and discuss the **RSA crypto scheme**, which has been\n",
    "named from the initials of its inventors, Rivest–Shamir–Adleman.\n",
    "\n",
    "It is widely used for cryting messages and signatures, using a\n",
    "**public-private key** pair.\n",
    "\n",
    "It is based on the fact, that some operations, such as **prime factorisation** of a larger\n",
    "integer number, is very tedious, but recovering the number from **multiplication** of\n",
    "the primes is easy.\n",
    "\n",
    "This asymmetric behaviour is also known as **one-way function**: Easy to calculate in\n",
    "the forward direction, difficult in the reverse direction."
   ]
  },
  {
   "cell_type": "code",
   "execution_count": 1,
   "id": "e3874661",
   "metadata": {},
   "outputs": [],
   "source": [
    "import numpy as np\n",
    "import random\n",
    "import myCrypt"
   ]
  },
  {
   "cell_type": "code",
   "execution_count": 14,
   "id": "b107fdf4",
   "metadata": {},
   "outputs": [
    {
     "name": "stdout",
     "output_type": "stream",
     "text": [
      "52 Allwissend bin ich nicht; doch viel ist mir bewusst!\n"
     ]
    }
   ],
   "source": [
    "message = \"Allwissend bin ich nicht; doch viel ist mir bewusst!\"\n",
    "L=len(message)\n",
    "print(L,message)"
   ]
  },
  {
   "cell_type": "code",
   "execution_count": 21,
   "id": "ecb852eb",
   "metadata": {},
   "outputs": [],
   "source": [
    "DEFAULT_BLOCK_SIZE = 128 # 128 bytes\n",
    "BYTE_SIZE = 256 # One byte has 256 different values.\n",
    "\n",
    "def getBlocksFromText(message, blockSize=DEFAULT_BLOCK_SIZE):\n",
    "    # Converts a string message to a list of block integers. Each integer\n",
    "    # represents 128 (or whatever blockSize is set to) string characters.\n",
    "    #print(type(message))\n",
    "    messageBytes = message.encode('ascii') # convert the string to bytes\n",
    "    #print(type(messageBytes))\n",
    "    #print(messageBytes)\n",
    "    blockInts = []\n",
    "    for blockStart in range(0, len(messageBytes), blockSize):\n",
    "        # Calculate the block integer for this block of text\n",
    "        blockInt = 0\n",
    "        for i in range(blockStart, min(blockStart + blockSize, len(messageBytes))):\n",
    "            blockInt += messageBytes[i] * (BYTE_SIZE ** (i % blockSize))\n",
    "        blockInts.append(blockInt)\n",
    "    return blockInts"
   ]
  },
  {
   "cell_type": "code",
   "execution_count": 22,
   "id": "4fb0dd3a",
   "metadata": {},
   "outputs": [
    {
     "name": "stdout",
     "output_type": "stream",
     "text": [
      "[22115552500309151849349029841977291899905071833881022688521381516173188066561289897248249918923893802138001590661096974085185]\n"
     ]
    }
   ],
   "source": [
    "blockInts = getBlocksFromText(message)\n",
    "print(blockInts)"
   ]
  },
  {
   "cell_type": "code",
   "execution_count": 25,
   "id": "141d7b5d",
   "metadata": {},
   "outputs": [
    {
     "name": "stdout",
     "output_type": "stream",
     "text": [
      "22115552500309151849349029841977291899905071833881022688521381516173188066561289897248249918923893802138001590661096974085185 <class 'int'>\n"
     ]
    }
   ],
   "source": [
    "for block in getBlocksFromText(message):\n",
    "    print(block,type(block))"
   ]
  },
  {
   "cell_type": "markdown",
   "id": "63e1816f",
   "metadata": {},
   "source": [
    "----"
   ]
  }
 ],
 "metadata": {
  "kernelspec": {
   "display_name": "Python 3 (ipykernel)",
   "language": "python",
   "name": "python3"
  },
  "language_info": {
   "codemirror_mode": {
    "name": "ipython",
    "version": 3
   },
   "file_extension": ".py",
   "mimetype": "text/x-python",
   "name": "python",
   "nbconvert_exporter": "python",
   "pygments_lexer": "ipython3",
   "version": "3.10.8"
  }
 },
 "nbformat": 4,
 "nbformat_minor": 5
}
