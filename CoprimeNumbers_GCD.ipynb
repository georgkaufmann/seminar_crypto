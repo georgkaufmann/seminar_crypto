{
 "cells": [
  {
   "cell_type": "markdown",
   "id": "f4b3ae77",
   "metadata": {},
   "source": [
    "<table>\n",
    "<tr><td><img style=\"height: 150px;\" src=\"images/geo_hydro1.jpg\"></td>\n",
    "<td bgcolor=\"#FFFFFF\">\n",
    "    <p style=\"font-size: xx-large; font-weight: 900; line-height: 100%\">AG Dynamics of the Earth</p>\n",
    "    <p style=\"font-size: large; color: rgba(0,0,0,0.5);\">Juypter notebooks</p>\n",
    "    <p style=\"font-size: large; color: rgba(0,0,0,0.5);\">Georg Kaufmann</p>\n",
    "    </td>\n",
    "</tr>\n",
    "</table>"
   ]
  },
  {
   "cell_type": "markdown",
   "id": "8f659d91",
   "metadata": {},
   "source": [
    "# Coprime numbers, Greatest common divisor\n",
    "----\n",
    "\n",
    "In this notebook, we introduce and create **prime numbers**. "
   ]
  },
  {
   "cell_type": "markdown",
   "id": "37276b5a",
   "metadata": {},
   "source": [
    "----\n",
    "## Coprime numbers\n",
    "\n",
    "[See also wikipedia...](https://en.wikipedia.org/wiki/Prime_number)\n",
    "\n",
    "Two integer numbers $a$ and $b$ are called **coprime**, if the only positive integer \n",
    "that is a divisor of both of them is 1.\n",
    "\n",
    "Examples:\n",
    "\n",
    "- $a=12$ and $b=77$ are **coprime**, because an integer factorisation yields\n",
    "$$\\begin{array}{rcl}\n",
    "12 &=& 2 \\cdot 2 \\cdot 3 \\\\\n",
    "77 &=& 7 \\cdot 11\n",
    "\\end{array}\n",
    "$$\n",
    "and thus there are **no** common prime numbers.\n",
    "- $a=15$ and $b=25$ are **not coprime**, because an integer factorisation yields\n",
    "$$\\begin{array}{rcl}\n",
    "15 &=& 3 \\cdot 5 \\\\\n",
    "25 &=& 5 \\cdot 5\n",
    "\\end{array}$$\n",
    "and thus there have `5`as a **common** prime number."
   ]
  },
  {
   "cell_type": "code",
   "execution_count": 1,
   "id": "6d6c62fc",
   "metadata": {},
   "outputs": [],
   "source": [
    "import numpy as np\n",
    "import sys"
   ]
  },
  {
   "cell_type": "markdown",
   "id": "33da9215",
   "metadata": {},
   "source": [
    "----\n",
    "## Integer factorisation\n",
    "\n",
    "**Integer factorization** is the decomposition of a composite number into a product of smaller integers. \n",
    "\n",
    "If these factors are further restricted to prime numbers, the process is called **prime factorization**. "
   ]
  },
  {
   "cell_type": "code",
   "execution_count": 2,
   "id": "c96e85df",
   "metadata": {},
   "outputs": [],
   "source": [
    "def primeFactors(n):\n",
    "    \"\"\"\n",
    "    Determine all prime factors of a composite number\n",
    "    \"\"\"\n",
    "    factors = []\n",
    "    # first check how many 2 are in as prime factors\n",
    "    while (n%2 == 0):\n",
    "        factors.append(2)\n",
    "        n = n/2\n",
    "    # then, n is retured as odd number, and next we check other prime factors\n",
    "    for i in range(3,int(np.sqrt(n))+1,2):\n",
    "        while (n%i == 0):\n",
    "            factors.append(i)\n",
    "            n = n/i\n",
    "    # remaining factor ...       \n",
    "    if (n > 2):\n",
    "        factors.append(int(n))\n",
    "    return factors"
   ]
  },
  {
   "cell_type": "code",
   "execution_count": 3,
   "id": "b988a470",
   "metadata": {},
   "outputs": [
    {
     "name": "stdout",
     "output_type": "stream",
     "text": [
      "315 [3, 3, 5, 7] 315\n"
     ]
    }
   ],
   "source": [
    "n=315\n",
    "factors = primeFactors(n)\n",
    "print(n,factors,np.prod(factors))"
   ]
  },
  {
   "cell_type": "code",
   "execution_count": 4,
   "id": "e561d9d7",
   "metadata": {},
   "outputs": [
    {
     "name": "stdout",
     "output_type": "stream",
     "text": [
      "12 [2, 2, 3] 12\n",
      "77 [7, 11] 77\n",
      "15 [3, 5] 15\n",
      "25 [5, 5] 25\n"
     ]
    }
   ],
   "source": [
    "nList = [12,77,15,25]\n",
    "for n in nList:\n",
    "    factors = primeFactors(n)\n",
    "    print(n,factors,np.prod(factors))"
   ]
  },
  {
   "cell_type": "markdown",
   "id": "fd27c88f",
   "metadata": {},
   "source": [
    "----\n",
    "## GCD\n",
    "\n",
    "To calculate the **greatest common divisor** for two numbers $a$ and $b$:\n",
    "- We start with the modulo $r$ of $a$ and $b$, $r = a \\mbox{ mod } b$\n",
    "- $r>0$, we set $a=b$, $b=r$, and calculate $r = a \\mbox{ mod } b$\n",
    "- $r=0$, return $b$ as GCD\n",
    "\n",
    "If $GCD=1$ is returned, the two numbers $a$ and $b$ have **no** greatest common divisor,\n",
    "they are **coprime**!"
   ]
  },
  {
   "cell_type": "code",
   "execution_count": 5,
   "id": "72a3cc18",
   "metadata": {},
   "outputs": [],
   "source": [
    "def greatestCommonDivisor(a,b):\n",
    "    \"\"\"\n",
    "    Determine greatest common divisor for two numbers a,b\n",
    "    \"\"\"\n",
    "    r = a%b\n",
    "    while r:\n",
    "        a = b\n",
    "        b = r\n",
    "        r = a%b\n",
    "    return b"
   ]
  },
  {
   "cell_type": "markdown",
   "id": "aed775e7",
   "metadata": {},
   "source": [
    "Test with the two number pairs from above,\n",
    "- $a,b=[12,77]$\n",
    "- $a,b=[15,25]$"
   ]
  },
  {
   "cell_type": "code",
   "execution_count": 6,
   "id": "4c328276",
   "metadata": {},
   "outputs": [
    {
     "name": "stdout",
     "output_type": "stream",
     "text": [
      "12 77 GCD:  1  => a and b are coprime\n",
      "15 25 GCD:  5\n"
     ]
    }
   ],
   "source": [
    "nList = np.array([[12,77],[15,25]])\n",
    "for i in range(nList.shape[0]):\n",
    "    a = nList[i][0]\n",
    "    b = nList[i][1]\n",
    "    gcd = greatestCommonDivisor(a,b)\n",
    "    if (gcd==1):\n",
    "        print(a,b,'GCD: ',gcd,' => a and b are coprime')\n",
    "    else:\n",
    "        print(a,b,'GCD: ',gcd)"
   ]
  },
  {
   "cell_type": "markdown",
   "id": "63e1816f",
   "metadata": {},
   "source": [
    "----"
   ]
  }
 ],
 "metadata": {
  "kernelspec": {
   "display_name": "Python 3 (ipykernel)",
   "language": "python",
   "name": "python3"
  },
  "language_info": {
   "codemirror_mode": {
    "name": "ipython",
    "version": 3
   },
   "file_extension": ".py",
   "mimetype": "text/x-python",
   "name": "python",
   "nbconvert_exporter": "python",
   "pygments_lexer": "ipython3",
   "version": "3.10.8"
  }
 },
 "nbformat": 4,
 "nbformat_minor": 5
}
