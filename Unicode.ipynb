{
 "cells": [
  {
   "cell_type": "markdown",
   "id": "f4b3ae77",
   "metadata": {},
   "source": [
    "<table>\n",
    "<tr><td><img style=\"height: 150px;\" src=\"images/geo_hydro1.jpg\"></td>\n",
    "<td bgcolor=\"#FFFFFF\">\n",
    "    <p style=\"font-size: xx-large; font-weight: 900; line-height: 100%\">AG Dynamics of the Earth</p>\n",
    "    <p style=\"font-size: large; color: rgba(0,0,0,0.5);\">Juypter notebooks</p>\n",
    "    <p style=\"font-size: large; color: rgba(0,0,0,0.5);\">Georg Kaufmann</p>\n",
    "    </td>\n",
    "</tr>\n",
    "</table>"
   ]
  },
  {
   "cell_type": "markdown",
   "id": "8f659d91",
   "metadata": {},
   "source": [
    "# Unicode \n",
    "----\n",
    "\n",
    "In this notebook, we discuss different character encodings.\n",
    "\n",
    "[See also](https://towardsdatascience.com/a-guide-to-unicode-utf-8-and-strings-in-python-757a232db95c)"
   ]
  },
  {
   "cell_type": "markdown",
   "id": "84818cc6",
   "metadata": {},
   "source": [
    "----\n",
    "## ASCII\n",
    "\n",
    "One of the early **character encodings** is the **ASCII** code \n",
    "(American Standard Code for Information Interchange). The ASCII encoding has a length of $2^7=128$\n",
    "characters:\n",
    "- [0,31] - non-printable characters\n",
    "- [32,127] - printable characters\n",
    "\n",
    "We can test a character with `ord('a')`, which gives us the position in the encoding table,\n",
    "and `char(97)`, which prints the character at position $n$."
   ]
  },
  {
   "cell_type": "code",
   "execution_count": 24,
   "id": "d24b9472",
   "metadata": {},
   "outputs": [
    {
     "name": "stdout",
     "output_type": "stream",
     "text": [
      "97\n",
      "a\n"
     ]
    }
   ],
   "source": [
    "print(ord('a'))\n",
    "print(chr(97))"
   ]
  },
  {
   "cell_type": "markdown",
   "id": "03d8509c-83a2-4bbc-a0ba-e1fff9960c38",
   "metadata": {},
   "source": [
    "Check the range from [32,127]:"
   ]
  },
  {
   "cell_type": "code",
   "execution_count": 2,
   "id": "93ff3f9c-7179-44e9-9a67-245145675409",
   "metadata": {
    "tags": []
   },
   "outputs": [
    {
     "name": "stdout",
     "output_type": "stream",
     "text": [
      "   !  \"  #  $  %  &  '  (  )  *  +  ,  -  .  /  0  1  2  3  4  5  6  7  8  9  :  ;  <  =  >  ?  @  A  B  C  D  E  F  G  H  I  J  K  L  M  N  O  P  Q  R  S  T  U  V  W  X  Y  Z  [  \\  ]  ^  _  `  a  b  c  d  e  f  g  h  i  j  k  l  m  n  o  p  q  r  s  t  u  v  w  x  y  z  {  |  }  ~    "
     ]
    }
   ],
   "source": [
    "for i in range(2**5,2**7):\n",
    "    print(chr(i),' ',end='')"
   ]
  },
  {
   "cell_type": "markdown",
   "id": "c701b1a1",
   "metadata": {},
   "source": [
    "----\n",
    "## Beyond ASCII\n",
    "\n",
    "We check the character encoding beyond the ASCII range, thus [128,256]:"
   ]
  },
  {
   "cell_type": "code",
   "execution_count": 35,
   "id": "f4410560",
   "metadata": {},
   "outputs": [
    {
     "name": "stdout",
     "output_type": "stream",
     "text": [
      "          ",
      "                                                         ¡  ¢  £  ¤  ¥  ¦  §  ¨  ©  ª  «  ¬  ­  ®  ¯  °  ±  ²  ³  ´  µ  ¶  ·  ¸  ¹  º  »  ¼  ½  ¾  ¿  À  Á  Â  Ã  Ä  Å  Æ  Ç  È  É  Ê  Ë  Ì  Í  Î  Ï  Ð  Ñ  Ò  Ó  Ô  Õ  Ö  ×  Ø  Ù  Ú  Û  Ü  Ý  Þ  ß  à  á  â  ã  ä  å  æ  ç  è  é  ê  ë  ì  í  î  ï  ð  ñ  ò  ó  ô  õ  ö  ÷  ø  ù  ú  û  ü  ý  þ  ÿ  "
     ]
    }
   ],
   "source": [
    "for i in range(128,2**8):\n",
    "    print(chr(i),' ',end='')"
   ]
  },
  {
   "cell_type": "markdown",
   "id": "75ccb77a",
   "metadata": {},
   "source": [
    "There are more characters in!\n",
    "\n",
    "Create a **dictionary** of the characters..."
   ]
  },
  {
   "cell_type": "code",
   "execution_count": 56,
   "id": "e702d891",
   "metadata": {},
   "outputs": [
    {
     "name": "stdout",
     "output_type": "stream",
     "text": [
      "{32: ' ', 33: '!', 34: '\"', 35: '#', 36: '$', 37: '%', 38: '&', 39: \"'\", 40: '(', 41: ')', 42: '*', 43: '+', 44: ',', 45: '-', 46: '.', 47: '/', 48: '0', 49: '1', 50: '2', 51: '3', 52: '4', 53: '5', 54: '6', 55: '7', 56: '8', 57: '9', 58: ':', 59: ';', 60: '<', 61: '=', 62: '>', 63: '?', 64: '@', 65: 'A', 66: 'B', 67: 'C', 68: 'D', 69: 'E', 70: 'F', 71: 'G', 72: 'H', 73: 'I', 74: 'J', 75: 'K', 76: 'L', 77: 'M', 78: 'N', 79: 'O', 80: 'P', 81: 'Q', 82: 'R', 83: 'S', 84: 'T', 85: 'U', 86: 'V', 87: 'W', 88: 'X', 89: 'Y', 90: 'Z', 91: '[', 92: '\\\\', 93: ']', 94: '^', 95: '_', 96: '`', 97: 'a', 98: 'b', 99: 'c', 100: 'd', 101: 'e', 102: 'f', 103: 'g', 104: 'h', 105: 'i', 106: 'j', 107: 'k', 108: 'l', 109: 'm', 110: 'n', 111: 'o', 112: 'p', 113: 'q', 114: 'r', 115: 's', 116: 't', 117: 'u', 118: 'v', 119: 'w', 120: 'x', 121: 'y', 122: 'z', 123: '{', 124: '|', 125: '}', 126: '~', 127: '\\x7f'}\n"
     ]
    }
   ],
   "source": [
    "dict = {}\n",
    "for i in range(32,2**7):\n",
    "    dict[i]=chr(i)\n",
    "print(dict)"
   ]
  },
  {
   "cell_type": "code",
   "execution_count": 57,
   "id": "bc74ba07",
   "metadata": {},
   "outputs": [
    {
     "name": "stdout",
     "output_type": "stream",
     "text": [
      "a\n"
     ]
    }
   ],
   "source": [
    "print(dict[97])"
   ]
  },
  {
   "cell_type": "code",
   "execution_count": 59,
   "id": "67d78365",
   "metadata": {},
   "outputs": [
    {
     "name": "stdout",
     "output_type": "stream",
     "text": [
      "32 ->  \n",
      "33 -> !\n",
      "34 -> \"\n",
      "35 -> #\n",
      "36 -> $\n",
      "37 -> %\n",
      "38 -> &\n",
      "39 -> '\n",
      "40 -> (\n",
      "41 -> )\n",
      "42 -> *\n",
      "43 -> +\n",
      "44 -> ,\n",
      "45 -> -\n",
      "46 -> .\n",
      "47 -> /\n",
      "48 -> 0\n",
      "49 -> 1\n",
      "50 -> 2\n",
      "51 -> 3\n",
      "52 -> 4\n",
      "53 -> 5\n",
      "54 -> 6\n",
      "55 -> 7\n",
      "56 -> 8\n",
      "57 -> 9\n",
      "58 -> :\n",
      "59 -> ;\n",
      "60 -> <\n",
      "61 -> =\n",
      "62 -> >\n",
      "63 -> ?\n",
      "64 -> @\n",
      "65 -> A\n",
      "66 -> B\n",
      "67 -> C\n",
      "68 -> D\n",
      "69 -> E\n",
      "70 -> F\n",
      "71 -> G\n",
      "72 -> H\n",
      "73 -> I\n",
      "74 -> J\n",
      "75 -> K\n",
      "76 -> L\n",
      "77 -> M\n",
      "78 -> N\n",
      "79 -> O\n",
      "80 -> P\n",
      "81 -> Q\n",
      "82 -> R\n",
      "83 -> S\n",
      "84 -> T\n",
      "85 -> U\n",
      "86 -> V\n",
      "87 -> W\n",
      "88 -> X\n",
      "89 -> Y\n",
      "90 -> Z\n",
      "91 -> [\n",
      "92 -> \\\n",
      "93 -> ]\n",
      "94 -> ^\n",
      "95 -> _\n",
      "96 -> `\n",
      "97 -> a\n",
      "98 -> b\n",
      "99 -> c\n",
      "100 -> d\n",
      "101 -> e\n",
      "102 -> f\n",
      "103 -> g\n",
      "104 -> h\n",
      "105 -> i\n",
      "106 -> j\n",
      "107 -> k\n",
      "108 -> l\n",
      "109 -> m\n",
      "110 -> n\n",
      "111 -> o\n",
      "112 -> p\n",
      "113 -> q\n",
      "114 -> r\n",
      "115 -> s\n",
      "116 -> t\n",
      "117 -> u\n",
      "118 -> v\n",
      "119 -> w\n",
      "120 -> x\n",
      "121 -> y\n",
      "122 -> z\n",
      "123 -> {\n",
      "124 -> |\n",
      "125 -> }\n",
      "126 -> ~\n",
      "127 -> \n"
     ]
    }
   ],
   "source": [
    "for key, value in dict.items():\n",
    "    print(key, '->', value)"
   ]
  },
  {
   "cell_type": "code",
   "execution_count": 30,
   "id": "bca51bdf",
   "metadata": {},
   "outputs": [
    {
     "name": "stdout",
     "output_type": "stream",
     "text": [
      "0061 61 97\n",
      "U+0061 : a\n",
      "U+1F590 : 🖐\n",
      "U+03A9 : Ω\n"
     ]
    }
   ],
   "source": [
    "a     = 'U+0061'\n",
    "emoij = 'U+1F590'\n",
    "omega = 'U+03A9'\n",
    "\n",
    "print(s[2:],int(s[2:]),int(s[2:],16))\n",
    "# 0041\n",
    "\n",
    "print(a,':',chr(int(a[2:],16)))\n",
    "print(emoij,':',chr(int(emoij[2:],16)))\n",
    "print(omega,':',chr(int(omega[2:],16)))"
   ]
  },
  {
   "cell_type": "markdown",
   "id": "70e03b61",
   "metadata": {},
   "source": [
    "----"
   ]
  }
 ],
 "metadata": {
  "kernelspec": {
   "display_name": "Python 3 (ipykernel)",
   "language": "python",
   "name": "python3"
  },
  "language_info": {
   "codemirror_mode": {
    "name": "ipython",
    "version": 3
   },
   "file_extension": ".py",
   "mimetype": "text/x-python",
   "name": "python",
   "nbconvert_exporter": "python",
   "pygments_lexer": "ipython3",
   "version": "3.11.3"
  }
 },
 "nbformat": 4,
 "nbformat_minor": 5
}
