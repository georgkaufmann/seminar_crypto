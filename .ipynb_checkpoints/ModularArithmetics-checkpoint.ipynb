{
 "cells": [
  {
   "cell_type": "markdown",
   "id": "c8dbadc8",
   "metadata": {},
   "source": [
    "<table>\n",
    "<tr><td><img style=\"height: 150px;\" src=\"images/geo_hydro1.jpg\"></td>\n",
    "<td bgcolor=\"#FFFFFF\">\n",
    "    <p style=\"font-size: xx-large; font-weight: 900; line-height: 100%\">AG Dynamics of the Earth</p>\n",
    "    <p style=\"font-size: large; color: rgba(0,0,0,0.5);\">Juypter notebooks</p>\n",
    "    <p style=\"font-size: large; color: rgba(0,0,0,0.5);\">Georg Kaufmann</p>\n",
    "    </td>\n",
    "</tr>\n",
    "</table>"
   ]
  },
  {
   "cell_type": "markdown",
   "id": "4b828c13",
   "metadata": {},
   "source": [
    "# Modular arithmetics\n",
    "In this notebooks, we briefly introduce concepts of **modular arithmetics**."
   ]
  },
  {
   "cell_type": "code",
   "execution_count": 1,
   "id": "39ccb4c2",
   "metadata": {},
   "outputs": [],
   "source": [
    "import numpy as np"
   ]
  },
  {
   "cell_type": "markdown",
   "id": "0390af8a",
   "metadata": {},
   "source": [
    "----\n",
    "## Integer numbers\n",
    "\n",
    "Take two integer numbers $a$ and $b$. For integer division, `python` has\n",
    "- The nornal division `a / b`, which results in a floating number.\n",
    "- The integer division `a // b`, which results in an integer number without rest.\n",
    "- The modulo peratir `a % b`, which results in the rest."
   ]
  },
  {
   "cell_type": "code",
   "execution_count": 9,
   "id": "1535b5c4",
   "metadata": {},
   "outputs": [
    {
     "name": "stdout",
     "output_type": "stream",
     "text": [
      "1.5\n",
      "1\n",
      "1\n"
     ]
    }
   ],
   "source": [
    "a=3\n",
    "b=2\n",
    "\n",
    "print(a / b)\n",
    "print(a % b)\n",
    "print (a // b)"
   ]
  },
  {
   "cell_type": "markdown",
   "id": "f7af9726",
   "metadata": {},
   "source": [
    "----\n",
    "## Modulo\n",
    "\n",
    "An integer number division can be written as\n",
    "$$\n",
    "\\frac{a}{b} = q \\mbox{ remainder } r\n",
    "$$\n",
    "with\n",
    "- $a$ is the dividend\n",
    "- $b$ is the divisor\n",
    "- $q$ is the quotient\n",
    "- $r$ is the remainder\n",
    "\n",
    "e.g.\n",
    "$$\n",
    "\\begin{array}{rcl}\n",
    "\\frac{13}{5} &=& 2 \\mbox{ remainder } 3 \\\\\n",
    "13 \\mod 5 &=& 3\n",
    "\\end{array}\n",
    "$$"
   ]
  },
  {
   "cell_type": "code",
   "execution_count": 12,
   "id": "231fe2d5",
   "metadata": {},
   "outputs": [
    {
     "name": "stdout",
     "output_type": "stream",
     "text": [
      "2.6\n",
      "3\n"
     ]
    }
   ],
   "source": [
    "print(13/5)\n",
    "print(13 % 5)"
   ]
  },
  {
   "cell_type": "markdown",
   "id": "b1a3bf14",
   "metadata": {},
   "source": [
    "----\n",
    "## Congruence modulo\n",
    "\n",
    "The integer number $a$ is congruent to $b$ modulo $c$.\n",
    "$$\n",
    "a \\equiv b {\\ (\\mathrm{mod}\\ c)}\n",
    "$$\n",
    "As equivalent statement, we find:\n",
    "$$\n",
    "\\begin{array}{rcl}\n",
    "a &\\equiv& b {\\ (\\mathrm{mod}\\ c)} \\\\\n",
    "a {\\ (\\mathrm{mod}\\ c)} &=& b {\\ (\\mathrm{mod}\\ c)}\n",
    "\\end{array}\n",
    "$$\n",
    "\n",
    "As example, we use:\n",
    "$$\n",
    "26 \\equiv 11 {\\ (\\mathrm{mod}\\ 5)}\n",
    "$$"
   ]
  },
  {
   "cell_type": "code",
   "execution_count": 18,
   "id": "35f210fb",
   "metadata": {},
   "outputs": [
    {
     "name": "stdout",
     "output_type": "stream",
     "text": [
      "1\n",
      "1\n"
     ]
    }
   ],
   "source": [
    "a=26; b=11; c=5\n",
    "print(a%c)\n",
    "print(b%c)"
   ]
  },
  {
   "cell_type": "markdown",
   "id": "3cd80963",
   "metadata": {},
   "source": [
    "----\n",
    "## Modular addition and substraction\n",
    "\n",
    "Addition:\n",
    "$$\n",
    "(a+b) {\\ (\\mathrm{mod}\\ c)} = \\big(a {\\ (\\mathrm{mod}\\ c)} + b {\\ (\\mathrm{mod}\\ c)} \\big) {\\ (\\mathrm{mod}\\ c)}\n",
    "$$\n",
    "Substraction:\n",
    "$$\n",
    "(a-b) {\\ (\\mathrm{mod}\\ c)} = \\big(a {\\ (\\mathrm{mod}\\ c)} - b {\\ (\\mathrm{mod}\\ c)} \\big) {\\ (\\mathrm{mod}\\ c)}\n",
    "$$"
   ]
  },
  {
   "cell_type": "code",
   "execution_count": 16,
   "id": "decd8295",
   "metadata": {},
   "outputs": [
    {
     "name": "stdout",
     "output_type": "stream",
     "text": [
      "1\n",
      "1\n"
     ]
    }
   ],
   "source": [
    "a=14; b= 17; c=5\n",
    "print((a+b) % c)\n",
    "print((a%c + b%c) % c)"
   ]
  },
  {
   "cell_type": "markdown",
   "id": "521b3130",
   "metadata": {},
   "source": [
    "----\n",
    "## Modular multiplication\n",
    "\n",
    "Multiplication:\n",
    "$$\n",
    "(a*b) {\\ (\\mathrm{mod}\\ c)} = \\big(a {\\ (\\mathrm{mod}\\ c)} * b {\\ (\\mathrm{mod}\\ c)} \\big) {\\ (\\mathrm{mod}\\ c)}\n",
    "$$"
   ]
  },
  {
   "cell_type": "code",
   "execution_count": 19,
   "id": "156546e7",
   "metadata": {},
   "outputs": [
    {
     "name": "stdout",
     "output_type": "stream",
     "text": [
      "3\n",
      "3\n"
     ]
    }
   ],
   "source": [
    "a=14; b= 17; c=5\n",
    "print((a*b) % c)\n",
    "print((a%c * b%c) % c)"
   ]
  },
  {
   "cell_type": "markdown",
   "id": "a986a53b",
   "metadata": {},
   "source": [
    "----\n",
    "## Modular exponentiation\n",
    "\n",
    "Exponentiation:\n",
    "$$\n",
    "(a^b) {\\ (\\mathrm{mod}\\ c)} = \\big(a {\\ (\\mathrm{mod}\\ c)}^b \\big) {\\ (\\mathrm{mod}\\ c)}\n",
    "$$"
   ]
  },
  {
   "cell_type": "code",
   "execution_count": 20,
   "id": "bb9737f1",
   "metadata": {},
   "outputs": [
    {
     "name": "stdout",
     "output_type": "stream",
     "text": [
      "4\n",
      "4\n"
     ]
    }
   ],
   "source": [
    "a=14; b= 17; c=5\n",
    "print((a**b) % c)\n",
    "print((a%c ** b) % c)"
   ]
  },
  {
   "cell_type": "markdown",
   "id": "b2f6b369",
   "metadata": {},
   "source": [
    "----\n",
    "## Modular inverse\n",
    "\n",
    "With a number $a$, the inverse $a{-1}$ can be calculated from:\n",
    "$$\n",
    "a a^{-1} = 1\n",
    "$$\n",
    "\n",
    "In modular arithmetic, this is similar:\n",
    "\n",
    "Modular inverse $a^{-1}$ of $ a (\\mathrm{mod}\\ c)$ is defined as:\n",
    "$$\n",
    "\\begin{array}{rcl}\n",
    "a a^{-1} &=& 1 (\\mathrm{mod}\\ c) \\\\\n",
    "a a^{-1} (\\mathrm{mod}\\ c) &=& 1\n",
    "\\end{array}\n",
    "$$\n",
    "Here, $a$ has to be **coprime** to $c$"
   ]
  },
  {
   "cell_type": "code",
   "execution_count": 56,
   "id": "7f7c05ab",
   "metadata": {},
   "outputs": [
    {
     "name": "stdout",
     "output_type": "stream",
     "text": [
      "0 0\n",
      "1 3\n",
      "2 6\n",
      "3 2\n",
      "4 5\n",
      "5 1  => 5  is modular inverse of  3  mod  7\n",
      "6 4\n"
     ]
    }
   ],
   "source": [
    "a=3; c=7\n",
    "\n",
    "for b in range(c):\n",
    "    test = (a*b) % c\n",
    "    if (test != 1):\n",
    "        print(b,test)\n",
    "    elif (test == 1):\n",
    "        ainv=b\n",
    "        print(ainv,test,' => ',end='')\n",
    "        print(ainv, ' is modular inverse of ',a,' mod ',c)    "
   ]
  },
  {
   "cell_type": "code",
   "execution_count": 60,
   "id": "33434284",
   "metadata": {},
   "outputs": [
    {
     "name": "stdout",
     "output_type": "stream",
     "text": [
      "1\n"
     ]
    }
   ],
   "source": [
    "print((ainv*a)%c)"
   ]
  },
  {
   "cell_type": "code",
   "execution_count": 58,
   "id": "f260ef84",
   "metadata": {},
   "outputs": [
    {
     "name": "stdout",
     "output_type": "stream",
     "text": [
      "5\n"
     ]
    }
   ],
   "source": [
    "ainv=pow(a,-1,c)\n",
    "print(ainv)"
   ]
  },
  {
   "cell_type": "markdown",
   "id": "cbda1002",
   "metadata": {},
   "source": [
    "----"
   ]
  }
 ],
 "metadata": {
  "kernelspec": {
   "display_name": "Python 3 (ipykernel)",
   "language": "python",
   "name": "python3"
  },
  "language_info": {
   "codemirror_mode": {
    "name": "ipython",
    "version": 3
   },
   "file_extension": ".py",
   "mimetype": "text/x-python",
   "name": "python",
   "nbconvert_exporter": "python",
   "pygments_lexer": "ipython3",
   "version": "3.10.8"
  }
 },
 "nbformat": 4,
 "nbformat_minor": 5
}
