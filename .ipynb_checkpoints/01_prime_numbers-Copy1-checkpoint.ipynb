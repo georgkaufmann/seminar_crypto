{
 "cells": [
  {
   "cell_type": "markdown",
   "id": "a406cf90",
   "metadata": {},
   "source": [
    "<table>\n",
    "<tr><td><img style=\"height: 150px;\" src=\"images/geo_hydro1.jpg\"></td>\n",
    "<td bgcolor=\"#FFFFFF\">\n",
    "    <p style=\"font-size: xx-large; font-weight: 900; line-height: 100%\">AG Dynamics of the Earth</p>\n",
    "    <p style=\"font-size: large; color: rgba(0,0,0,0.5);\">Juypter notebooks</p>\n",
    "    <p style=\"font-size: large; color: rgba(0,0,0,0.5);\">Georg Kaufmann</p>\n",
    "    </td>\n",
    "</tr>\n",
    "</table>"
   ]
  },
  {
   "cell_type": "markdown",
   "id": "274ee5dc",
   "metadata": {},
   "source": [
    "# Create prime numbers\n",
    "----\n",
    "In this notebook, we create **prime numbers**.\n",
    "\n",
    "[from wikipedia...](https://en.wikipedia.org/wiki/Prime_number)\n",
    "\n",
    "A **prime number** (or a prime) is a natural number greater than 1 that is **not** a product of two smaller natural numbers, e.g. <b style=color:red;>2,3,5,7,11</b>.\n",
    "\n",
    "The only **even** prime number is 2.\n",
    "\n",
    "The opposite of a prime number is called a **composite number**, e.g. \n",
    "<b style=color:green;>4,6,8,9,10,12</b>. \n",
    "\n",
    "The **fundamental theorem of arithmetic**, also called the unique factorization theorem and \n",
    "prime factorization theorem, states that every integer greater than 1 can be represented **uniquely** \n",
    "as a product of prime numbers, up to the order of the factors, e.g.\n",
    "\n",
    "$$\n",
    "\\begin{array}{rcl}\n",
    "1200 &=& 2^{4}\\cdot 3^{1}\\cdot 5^{2} \\\\\n",
    "&=& (2\\cdot 2\\cdot 2\\cdot 2)\\cdot 3\\cdot (5\\cdot 5) \\\\\n",
    "&=& 5\\cdot 2\\cdot 5\\cdot 2\\cdot 3\\cdot 2\\cdot 2=\\ldots\n",
    "\\end{array}\n",
    "$$\n",
    "\n",
    "We first import several libraries."
   ]
  },
  {
   "cell_type": "code",
   "execution_count": 32,
   "id": "8147caf9",
   "metadata": {},
   "outputs": [],
   "source": [
    "import numpy as np\n",
    "import random\n",
    "import sys"
   ]
  },
  {
   "cell_type": "markdown",
   "id": "f237ffa3",
   "metadata": {},
   "source": [
    "----\n",
    "## Simple random number generation\n",
    "\n",
    "When testing if a number **is prime**, we can use the property that a prime number\n",
    "can only be divided by itself without rest.\n",
    "\n",
    "Thus, the `modulo operator` (`%`) will be very helpful.\n",
    "\n",
    "We create a sequence of integer numbers from 2 to an upper limit `upper`, then test\n",
    "with the modulo operator, if division by **all** smaller numbers does not result in a rest."
   ]
  },
  {
   "cell_type": "code",
   "execution_count": 2,
   "id": "c786a115",
   "metadata": {},
   "outputs": [
    {
     "name": "stdout",
     "output_type": "stream",
     "text": [
      "Upper limit for search: 100\n",
      "<class 'int'>\n",
      "Prime numbers found:  25\n",
      "Prime numbers: [2, 3, 5, 7, 11, 13, 17, 19, 23, 29, 31, 37, 41, 43, 47, 53, 59, 61, 67, 71, 73, 79, 83, 89, 97]\n"
     ]
    }
   ],
   "source": [
    "# ask for upper limit to search for\n",
    "upper = int(input('Upper limit for search: '))\n",
    "print(type(upper))\n",
    "\n",
    "# set array of prime numbers to empty array\n",
    "prime=[]\n",
    "# loop over potential prime numbers\n",
    "for n in range(2,upper):\n",
    "    # inner loop to check division\n",
    "    isprime=True\n",
    "    for i in range(2,n):\n",
    "        if ((n % i) == 0):\n",
    "            isprime=False\n",
    "           #break\n",
    "    if (isprime): prime.append(n)\n",
    "# finished loops, print final list of primes\n",
    "print (\"%s %i\" % ('Prime numbers found: ',len(prime)))\n",
    "print (\"%s%s\" % ('Prime numbers: ',prime))"
   ]
  },
  {
   "cell_type": "markdown",
   "id": "e618c4c7",
   "metadata": {},
   "source": [
    "----\n",
    "## Larger random numbers\n",
    "\n",
    "For larger random numbers, the simple modulo test becomes too tedious.\n",
    "\n",
    "First, define a range for searching random numbers, in bits. \n",
    "Test `random.randrange`, calculate several times ..."
   ]
  },
  {
   "cell_type": "code",
   "execution_count": 5,
   "id": "008e8d16",
   "metadata": {},
   "outputs": [
    {
     "name": "stdout",
     "output_type": "stream",
     "text": [
      "keysize:        4\n",
      "range from/to:  8 16\n",
      "random number:  12\n"
     ]
    }
   ],
   "source": [
    "keysize = 4\n",
    "range_from = 2**(keysize-1)\n",
    "range_to   = 2**(keysize)\n",
    "number = random.randrange(range_from,range_to)\n",
    "print('keysize:       ',keysize)\n",
    "print('range from/to: ',range_from,range_to)\n",
    "print('random number: ',number)"
   ]
  },
  {
   "cell_type": "markdown",
   "id": "16154c4b",
   "metadata": {},
   "source": [
    "### Test, if number is a prime\n",
    "\n",
    "Simple test in list ..."
   ]
  },
  {
   "cell_type": "code",
   "execution_count": 6,
   "id": "e3769d99",
   "metadata": {},
   "outputs": [],
   "source": [
    "def isPrime_list(number):\n",
    "    lowPrimes = [2, 3, 5, 7, 11, 13, 17, 19, 23, 29, 31, 37, 41, 43, \n",
    "                 47, 53, 59, 61, 67, 71, 73, 79, 83, 89, 97, 101, 103, \n",
    "                 107, 109, 113, 127, 131, 137, 139, 149, 151, 157, 163, \n",
    "                 167, 173, 179, 181, 191, 193, 197, 199, 211, 223, 227, \n",
    "                 229, 233, 239, 241, 251, 257, 263, 269, 271, 277, 281, \n",
    "                 283, 293, 307, 311, 313, 317, 331, 337, 347, 349, 353, \n",
    "                 359, 367, 373, 379, 383, 389, 397, 401, 409, 419, 421, \n",
    "                 431, 433, 439, 443, 449, 457, 461, 463, 467, 479, 487, \n",
    "                 491, 499, 503, 509, 521, 523, 541, 547, 557, 563, 569, \n",
    "                 571, 577, 587, 593, 599, 601, 607, 613, 617, 619, 631, \n",
    "                 641, 643, 647, 653, 659, 661, 673, 677, 683, 691, 701, \n",
    "                 709, 719, 727, 733, 739, 743, 751, 757, 761, 769, 773, \n",
    "                 787, 797, 809, 811, 821, 823, 827, 829, 839, 853, 857, \n",
    "                 859, 863, 877, 881, 883, 887, 907, 911, 919, 929, 937, \n",
    "                 941, 947, 953, 967, 971, 977, 983, 991, 997]\n",
    "    if number > 997:\n",
    "         sys.exit('ERROR: number larger than 997, the tabulated max value')\n",
    "    if number in lowPrimes:\n",
    "        return True\n",
    "    return False"
   ]
  },
  {
   "cell_type": "code",
   "execution_count": 35,
   "id": "254b3bf9",
   "metadata": {},
   "outputs": [
    {
     "name": "stdout",
     "output_type": "stream",
     "text": [
      "55 False False\n",
      "91 False False\n",
      "274 False False\n",
      "112 False False\n",
      "860 False False\n",
      "924 False False\n",
      "897 False False\n",
      "390 False False\n",
      "551 False False\n",
      "350 False False\n",
      "874 False False\n",
      "55 False False\n",
      "140 False False\n",
      "347 True True\n",
      "929 True True\n",
      "388 False False\n",
      "73 True True\n",
      "96 False False\n",
      "685 False False\n",
      "131 True True\n"
     ]
    }
   ],
   "source": [
    "random.seed(123)\n",
    "for i in range(20):\n",
    "    number = random.randrange(2,1000)\n",
    "    print(number,isPrime_list(number),rabinMiller(number))"
   ]
  },
  {
   "cell_type": "markdown",
   "id": "0e1b6389",
   "metadata": {},
   "source": [
    "----\n",
    "## Larger prime numbers\n",
    "\n",
    "For testing if larger integer numbers are prime, an often used method is the \n",
    "**Rabin-Miller algorithm** [see wikipedia](https://de.wikipedia.org/wiki/Miller-Rabin-Test)."
   ]
  },
  {
   "cell_type": "code",
   "execution_count": 26,
   "id": "8874e1b0",
   "metadata": {},
   "outputs": [],
   "source": [
    "def rabinMiller(num):\n",
    "    \"\"\"\n",
    "    uses Rabin-Miller algorithm to estimate if num is a prime\n",
    "    \"\"\"\n",
    "    # check if number is even, then break\n",
    "    if num % 2 == 0: return False\n",
    "    \n",
    "    s = num - 1\n",
    "    t = 0\n",
    "    while s % 2 == 0:\n",
    "        # keep halving s while it is even (and use t\n",
    "        # to count how many times we halve s)\n",
    "        s = s // 2\n",
    "        t += 1\n",
    "    for trials in range(5): # try to falsify num's primality 5 times\n",
    "        a = random.randrange(2, num - 1)\n",
    "        v = pow(a, s, num)\n",
    "        if v != 1: # this test does not apply if v is 1.\n",
    "            i = 0\n",
    "            while v != (num - 1):\n",
    "                if i == t - 1:\n",
    "                    return False\n",
    "                else:\n",
    "                    i = i + 1\n",
    "                    v = (v ** 2) % num\n",
    "    return True"
   ]
  },
  {
   "cell_type": "code",
   "execution_count": 25,
   "id": "cba34ba8",
   "metadata": {},
   "outputs": [],
   "source": [
    "def generateLargePrime(keysize=1024):\n",
    "    \"\"\"\n",
    "    Return a random prime number of keysize bits in size\n",
    "    \"\"\"\n",
    "    while True:\n",
    "        number = random.randrange(2**(keysize-1), 2**(keysize))\n",
    "        if isPrime(number):\n",
    "            return number"
   ]
  },
  {
   "cell_type": "code",
   "execution_count": 27,
   "id": "8516ab0c",
   "metadata": {},
   "outputs": [
    {
     "data": {
      "text/plain": [
       "True"
      ]
     },
     "execution_count": 27,
     "metadata": {},
     "output_type": "execute_result"
    }
   ],
   "source": [
    "rabinMiller(89)"
   ]
  },
  {
   "cell_type": "code",
   "execution_count": 28,
   "id": "f303fb68",
   "metadata": {},
   "outputs": [],
   "source": [
    "def isPrime(number):\n",
    "    \"\"\"\n",
    "    Return True if number is a prime number. This function does a quicker\n",
    "    prime number check before calling rabinMiller().\n",
    "    \"\"\"\n",
    "    # check for number smaller than 2\n",
    "    if (number < 2):\n",
    "        print (\"0, 1, and negative numbers are not prime\")\n",
    "        return False \n",
    "    # check is number is part of one of the first prime numbers tabulated\n",
    "    lowPrimes = [2, 3, 5, 7, 11, 13, 17, 19, 23, 29, 31, 37, 41, 43, \n",
    "                 47, 53, 59, 61, 67, 71, 73, 79, 83, 89, 97, 101, 103, \n",
    "                 107, 109, 113, 127, 131, 137, 139, 149, 151, 157, 163, \n",
    "                 167, 173, 179, 181, 191, 193, 197, 199, 211, 223, 227, \n",
    "                 229, 233, 239, 241, 251, 257, 263, 269, 271, 277, 281, \n",
    "                 283, 293, 307, 311, 313, 317, 331, 337, 347, 349, 353, \n",
    "                 359, 367, 373, 379, 383, 389, 397, 401, 409, 419, 421, \n",
    "                 431, 433, 439, 443, 449, 457, 461, 463, 467, 479, 487, \n",
    "                 491, 499, 503, 509, 521, 523, 541, 547, 557, 563, 569, \n",
    "                 571, 577, 587, 593, 599, 601, 607, 613, 617, 619, 631, \n",
    "                 641, 643, 647, 653, 659, 661, 673, 677, 683, 691, 701, \n",
    "                 709, 719, 727, 733, 739, 743, 751, 757, 761, 769, 773, \n",
    "                 787, 797, 809, 811, 821, 823, 827, 829, 839, 853, 857, \n",
    "                 859, 863, 877, 881, 883, 887, 907, 911, 919, 929, 937, \n",
    "                 941, 947, 953, 967, 971, 977, 983, 991, 997]\n",
    "    if number in lowPrimes:\n",
    "        return True\n",
    "    # See if any of the low prime numbers can divide num\n",
    "    for prime in lowPrimes:\n",
    "        if (number % prime == 0):\n",
    "            return False\n",
    "    # If all else fails, call rabinMiller() to determine if num is a prime.\n",
    "    return rabinMiller(number)"
   ]
  },
  {
   "cell_type": "code",
   "execution_count": 29,
   "id": "47440c0f",
   "metadata": {},
   "outputs": [
    {
     "name": "stdout",
     "output_type": "stream",
     "text": [
      "keysize:  4  prime:  13\n",
      "keysize:  8  prime:  149\n",
      "keysize:  16  prime:  37571\n",
      "keysize:  32  prime:  2249670611\n",
      "keysize:  64  prime:  15496756479074478697\n",
      "keysize:  128  prime:  189862294337989634782221203527402347847\n"
     ]
    }
   ],
   "source": [
    "keysize_list=[4,8,16,32,64,128]\n",
    "for keysize in keysize_list:\n",
    "    prime = generateLargePrime(keysize)\n",
    "    print('keysize: ',keysize,' prime: ',prime)"
   ]
  },
  {
   "cell_type": "markdown",
   "id": "9a9c61aa",
   "metadata": {},
   "source": [
    "----"
   ]
  }
 ],
 "metadata": {
  "kernelspec": {
   "display_name": "Python 3 (ipykernel)",
   "language": "python",
   "name": "python3"
  },
  "language_info": {
   "codemirror_mode": {
    "name": "ipython",
    "version": 3
   },
   "file_extension": ".py",
   "mimetype": "text/x-python",
   "name": "python",
   "nbconvert_exporter": "python",
   "pygments_lexer": "ipython3",
   "version": "3.10.8"
  }
 },
 "nbformat": 4,
 "nbformat_minor": 5
}
