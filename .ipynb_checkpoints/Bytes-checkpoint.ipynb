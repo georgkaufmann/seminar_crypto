{
 "cells": [
  {
   "cell_type": "markdown",
   "id": "71107112",
   "metadata": {},
   "source": [
    "<table>\n",
    "<tr><td><img style=\"height: 150px;\" src=\"images/geo_hydro1.jpg\"></td>\n",
    "<td bgcolor=\"#FFFFFF\">\n",
    "    <p style=\"font-size: xx-large; font-weight: 900; line-height: 100%\">AG Dynamics of the Earth</p>\n",
    "    <p style=\"font-size: large; color: rgba(0,0,0,0.5);\">Juypter notebooks</p>\n",
    "    <p style=\"font-size: large; color: rgba(0,0,0,0.5);\">Georg Kaufmann</p>\n",
    "    </td>\n",
    "</tr>\n",
    "</table>"
   ]
  },
  {
   "cell_type": "markdown",
   "id": "a1ee8fba",
   "metadata": {},
   "source": [
    "# Bytes\n",
    "----\n",
    "\n",
    "In this notebook, we discuss **bytes** as storage and manipulation.\n",
    "\n",
    "As introcution, see [working with binary data](https://www.devdungeon.com/content/working-binary-data-python)"
   ]
  },
  {
   "cell_type": "code",
   "execution_count": 43,
   "id": "2a03f292",
   "metadata": {},
   "outputs": [],
   "source": [
    "from itertools import zip_longest\n",
    "import binascii"
   ]
  },
  {
   "cell_type": "markdown",
   "id": "cf261c1c",
   "metadata": {},
   "source": [
    "----\n",
    "## From string to byte and back\n",
    "\n",
    "We first consider a string `message`..."
   ]
  },
  {
   "cell_type": "code",
   "execution_count": 11,
   "id": "2c78665a",
   "metadata": {},
   "outputs": [
    {
     "name": "stdout",
     "output_type": "stream",
     "text": [
      "<class 'str'> 52 Allwissend bin ich nicht; doch viel ist mir bewusst!\n"
     ]
    }
   ],
   "source": [
    "message = \"Allwissend bin ich nicht; doch viel ist mir bewusst!\"\n",
    "print(type(message),len(message),message)"
   ]
  },
  {
   "cell_type": "markdown",
   "id": "13fc959e",
   "metadata": {},
   "source": [
    "... which we encode, using either the `.encode()` or the `bytes()`functions.\n",
    "Both produce the same, a bytes object."
   ]
  },
  {
   "cell_type": "code",
   "execution_count": 15,
   "id": "12f4f096",
   "metadata": {},
   "outputs": [
    {
     "name": "stdout",
     "output_type": "stream",
     "text": [
      "<class 'bytes'> 52 b'Allwissend bin ich nicht; doch viel ist mir bewusst!'\n",
      "<class 'bytes'> 52 b'Allwissend bin ich nicht; doch viel ist mir bewusst!'\n"
     ]
    }
   ],
   "source": [
    "message_encoded1 = message.encode('utf8')\n",
    "message_encoded2 = bytes(message,'utf8')\n",
    "print(type(message_encoded1),len(message_encoded1),message_encoded1)\n",
    "print(type(message_encoded2),len(message_encoded2),message_encoded2)"
   ]
  },
  {
   "cell_type": "markdown",
   "id": "02fd4fb4",
   "metadata": {},
   "source": [
    "Back from bytes to string is done with either `.encode()`or `str()`."
   ]
  },
  {
   "cell_type": "code",
   "execution_count": 17,
   "id": "4d3231a3",
   "metadata": {},
   "outputs": [
    {
     "name": "stdout",
     "output_type": "stream",
     "text": [
      "<class 'str'> 52 Allwissend bin ich nicht; doch viel ist mir bewusst!\n",
      "<class 'str'> 52 Allwissend bin ich nicht; doch viel ist mir bewusst!\n"
     ]
    }
   ],
   "source": [
    "message_decoded1 = message_encoded1.decode('utf8')\n",
    "message_decoded2 = str(message_encoded1,'utf8')\n",
    "print(type(message_decoded1),len(message_decoded1),message_decoded1)\n",
    "print(type(message_decoded2),len(message_decoded2),message_decoded2)"
   ]
  },
  {
   "cell_type": "markdown",
   "id": "cd0a00ab",
   "metadata": {},
   "source": [
    "But the `bytes` command can also be used with an integer number $n$. Then, it creates $n$ bytes ..."
   ]
  },
  {
   "cell_type": "code",
   "execution_count": 87,
   "id": "0c80efa0",
   "metadata": {},
   "outputs": [
    {
     "name": "stdout",
     "output_type": "stream",
     "text": [
      "b'\\x00\\x00\\x00\\x00' <class 'bytes'>\n",
      "\u0000\u0000\u0000\u0000 <class 'str'>\n"
     ]
    }
   ],
   "source": [
    "n=4\n",
    "print(bytes(n),type(bytes(n)))\n",
    "print(bytes(n).decode(),type(bytes(n).decode()))"
   ]
  },
  {
   "cell_type": "markdown",
   "id": "9ac17951",
   "metadata": {},
   "source": [
    "Each byte is the `00` byte in hexadecimal notation, which in the unsual char table is a blank."
   ]
  },
  {
   "cell_type": "markdown",
   "id": "927183b3",
   "metadata": {},
   "source": [
    "----\n",
    "## 'bytearray'\n",
    "While `bytes()` cannot be changed (it is immutable), a mutable sequence can be created with\n",
    "`bytearray`:"
   ]
  },
  {
   "cell_type": "code",
   "execution_count": 86,
   "id": "97672cce",
   "metadata": {},
   "outputs": [
    {
     "name": "stdout",
     "output_type": "stream",
     "text": [
      "<class 'bytes'> 52 b'Allwissend bin ich nicht; doch viel ist mir bewusst!'\n",
      "<class 'bytearray'> 52 bytearray(b'Allwissend bin ich nicht; doch viel ist mir bewusst!')\n",
      "65  108  108  119  105  115  115  101  110  100  32  98  105  110  32  105  99  104  32  110  105  99  104  116  59  32  100  111  99  104  32  118  105  101  108  32  105  115  116  32  109  105  114  32  98  101  119  117  115  115  116  33  "
     ]
    }
   ],
   "source": [
    "message_encoded1 = message.encode('utf8')\n",
    "print(type(message_encoded1),len(message_encoded1),message_encoded1)\n",
    "\n",
    "message_bytearray = bytearray(message_encoded1)\n",
    "print(type(message_bytearray),len(message_bytearray),message_bytearray)\n",
    "for byte in message_bytearray:\n",
    "    print(byte,' ',end='')"
   ]
  },
  {
   "cell_type": "markdown",
   "id": "c5f757be",
   "metadata": {},
   "source": [
    "----\n",
    "## Decimal, hexadecimal, and binary representation\n",
    "\n",
    "We can represent a number in \n",
    "- the decimal, \n",
    "- the hexadecimal `hex)()`, and\n",
    "- the binary `bin()` system,\n",
    "\n",
    "thus based on the base `10`, the base `16`, and the base `2`.\n",
    "\n",
    "For the 8-bit system, which can store $2^8=256$ different numbers, we find in the three systems:"
   ]
  },
  {
   "cell_type": "code",
   "execution_count": 89,
   "id": "e1c835d6",
   "metadata": {},
   "outputs": [
    {
     "name": "stdout",
     "output_type": "stream",
     "text": [
      "0 : 0b0 : 0x0\n",
      "1 : 0b1 : 0x1\n"
     ]
    }
   ],
   "source": [
    "for a in range(2):\n",
    "    print(a,':',bin(a),':',hex(a))"
   ]
  },
  {
   "cell_type": "markdown",
   "id": "04bef590",
   "metadata": {},
   "source": [
    "Note that ...\n",
    "- in the **binary** system a prefix `0b` is added,\n",
    "- in the **hexadecimal** system a prefix `0x` is added.\n",
    "\n",
    "We strip the prefixes off:"
   ]
  },
  {
   "cell_type": "code",
   "execution_count": 90,
   "id": "9b053675",
   "metadata": {},
   "outputs": [
    {
     "name": "stdout",
     "output_type": "stream",
     "text": [
      "0 : 00000000 : 0\n",
      "1 : 00000001 : 1\n",
      "2 : 00000010 : 2\n",
      "3 : 00000011 : 3\n",
      "4 : 00000100 : 4\n",
      "5 : 00000101 : 5\n",
      "6 : 00000110 : 6\n",
      "7 : 00000111 : 7\n",
      "8 : 00001000 : 8\n",
      "9 : 00001001 : 9\n",
      "10 : 00001010 : a\n",
      "11 : 00001011 : b\n",
      "12 : 00001100 : c\n",
      "13 : 00001101 : d\n",
      "14 : 00001110 : e\n",
      "15 : 00001111 : f\n",
      "16 : 00010000 : 10\n",
      "17 : 00010001 : 11\n",
      "18 : 00010010 : 12\n",
      "19 : 00010011 : 13\n",
      "20 : 00010100 : 14\n",
      "21 : 00010101 : 15\n",
      "22 : 00010110 : 16\n",
      "23 : 00010111 : 17\n",
      "24 : 00011000 : 18\n",
      "25 : 00011001 : 19\n",
      "26 : 00011010 : 1a\n",
      "27 : 00011011 : 1b\n",
      "28 : 00011100 : 1c\n",
      "29 : 00011101 : 1d\n",
      "30 : 00011110 : 1e\n",
      "31 : 00011111 : 1f\n",
      "32 : 00100000 : 20\n",
      "33 : 00100001 : 21\n",
      "34 : 00100010 : 22\n",
      "35 : 00100011 : 23\n",
      "36 : 00100100 : 24\n",
      "37 : 00100101 : 25\n",
      "38 : 00100110 : 26\n",
      "39 : 00100111 : 27\n",
      "40 : 00101000 : 28\n",
      "41 : 00101001 : 29\n",
      "42 : 00101010 : 2a\n",
      "43 : 00101011 : 2b\n",
      "44 : 00101100 : 2c\n",
      "45 : 00101101 : 2d\n",
      "46 : 00101110 : 2e\n",
      "47 : 00101111 : 2f\n",
      "48 : 00110000 : 30\n",
      "49 : 00110001 : 31\n",
      "50 : 00110010 : 32\n",
      "51 : 00110011 : 33\n",
      "52 : 00110100 : 34\n",
      "53 : 00110101 : 35\n",
      "54 : 00110110 : 36\n",
      "55 : 00110111 : 37\n",
      "56 : 00111000 : 38\n",
      "57 : 00111001 : 39\n",
      "58 : 00111010 : 3a\n",
      "59 : 00111011 : 3b\n",
      "60 : 00111100 : 3c\n",
      "61 : 00111101 : 3d\n",
      "62 : 00111110 : 3e\n",
      "63 : 00111111 : 3f\n",
      "64 : 01000000 : 40\n",
      "65 : 01000001 : 41\n",
      "66 : 01000010 : 42\n",
      "67 : 01000011 : 43\n",
      "68 : 01000100 : 44\n",
      "69 : 01000101 : 45\n",
      "70 : 01000110 : 46\n",
      "71 : 01000111 : 47\n",
      "72 : 01001000 : 48\n",
      "73 : 01001001 : 49\n",
      "74 : 01001010 : 4a\n",
      "75 : 01001011 : 4b\n",
      "76 : 01001100 : 4c\n",
      "77 : 01001101 : 4d\n",
      "78 : 01001110 : 4e\n",
      "79 : 01001111 : 4f\n",
      "80 : 01010000 : 50\n",
      "81 : 01010001 : 51\n",
      "82 : 01010010 : 52\n",
      "83 : 01010011 : 53\n",
      "84 : 01010100 : 54\n",
      "85 : 01010101 : 55\n",
      "86 : 01010110 : 56\n",
      "87 : 01010111 : 57\n",
      "88 : 01011000 : 58\n",
      "89 : 01011001 : 59\n",
      "90 : 01011010 : 5a\n",
      "91 : 01011011 : 5b\n",
      "92 : 01011100 : 5c\n",
      "93 : 01011101 : 5d\n",
      "94 : 01011110 : 5e\n",
      "95 : 01011111 : 5f\n",
      "96 : 01100000 : 60\n",
      "97 : 01100001 : 61\n",
      "98 : 01100010 : 62\n",
      "99 : 01100011 : 63\n",
      "100 : 01100100 : 64\n",
      "101 : 01100101 : 65\n",
      "102 : 01100110 : 66\n",
      "103 : 01100111 : 67\n",
      "104 : 01101000 : 68\n",
      "105 : 01101001 : 69\n",
      "106 : 01101010 : 6a\n",
      "107 : 01101011 : 6b\n",
      "108 : 01101100 : 6c\n",
      "109 : 01101101 : 6d\n",
      "110 : 01101110 : 6e\n",
      "111 : 01101111 : 6f\n",
      "112 : 01110000 : 70\n",
      "113 : 01110001 : 71\n",
      "114 : 01110010 : 72\n",
      "115 : 01110011 : 73\n",
      "116 : 01110100 : 74\n",
      "117 : 01110101 : 75\n",
      "118 : 01110110 : 76\n",
      "119 : 01110111 : 77\n",
      "120 : 01111000 : 78\n",
      "121 : 01111001 : 79\n",
      "122 : 01111010 : 7a\n",
      "123 : 01111011 : 7b\n",
      "124 : 01111100 : 7c\n",
      "125 : 01111101 : 7d\n",
      "126 : 01111110 : 7e\n",
      "127 : 01111111 : 7f\n",
      "128 : 10000000 : 80\n",
      "129 : 10000001 : 81\n",
      "130 : 10000010 : 82\n",
      "131 : 10000011 : 83\n",
      "132 : 10000100 : 84\n",
      "133 : 10000101 : 85\n",
      "134 : 10000110 : 86\n",
      "135 : 10000111 : 87\n",
      "136 : 10001000 : 88\n",
      "137 : 10001001 : 89\n",
      "138 : 10001010 : 8a\n",
      "139 : 10001011 : 8b\n",
      "140 : 10001100 : 8c\n",
      "141 : 10001101 : 8d\n",
      "142 : 10001110 : 8e\n",
      "143 : 10001111 : 8f\n",
      "144 : 10010000 : 90\n",
      "145 : 10010001 : 91\n",
      "146 : 10010010 : 92\n",
      "147 : 10010011 : 93\n",
      "148 : 10010100 : 94\n",
      "149 : 10010101 : 95\n",
      "150 : 10010110 : 96\n",
      "151 : 10010111 : 97\n",
      "152 : 10011000 : 98\n",
      "153 : 10011001 : 99\n",
      "154 : 10011010 : 9a\n",
      "155 : 10011011 : 9b\n",
      "156 : 10011100 : 9c\n",
      "157 : 10011101 : 9d\n",
      "158 : 10011110 : 9e\n",
      "159 : 10011111 : 9f\n",
      "160 : 10100000 : a0\n",
      "161 : 10100001 : a1\n",
      "162 : 10100010 : a2\n",
      "163 : 10100011 : a3\n",
      "164 : 10100100 : a4\n",
      "165 : 10100101 : a5\n",
      "166 : 10100110 : a6\n",
      "167 : 10100111 : a7\n",
      "168 : 10101000 : a8\n",
      "169 : 10101001 : a9\n",
      "170 : 10101010 : aa\n",
      "171 : 10101011 : ab\n",
      "172 : 10101100 : ac\n",
      "173 : 10101101 : ad\n",
      "174 : 10101110 : ae\n",
      "175 : 10101111 : af\n",
      "176 : 10110000 : b0\n",
      "177 : 10110001 : b1\n",
      "178 : 10110010 : b2\n",
      "179 : 10110011 : b3\n",
      "180 : 10110100 : b4\n",
      "181 : 10110101 : b5\n",
      "182 : 10110110 : b6\n",
      "183 : 10110111 : b7\n",
      "184 : 10111000 : b8\n",
      "185 : 10111001 : b9\n",
      "186 : 10111010 : ba\n",
      "187 : 10111011 : bb\n",
      "188 : 10111100 : bc\n",
      "189 : 10111101 : bd\n",
      "190 : 10111110 : be\n",
      "191 : 10111111 : bf\n",
      "192 : 11000000 : c0\n",
      "193 : 11000001 : c1\n",
      "194 : 11000010 : c2\n",
      "195 : 11000011 : c3\n",
      "196 : 11000100 : c4\n",
      "197 : 11000101 : c5\n",
      "198 : 11000110 : c6\n",
      "199 : 11000111 : c7\n",
      "200 : 11001000 : c8\n",
      "201 : 11001001 : c9\n",
      "202 : 11001010 : ca\n",
      "203 : 11001011 : cb\n",
      "204 : 11001100 : cc\n",
      "205 : 11001101 : cd\n",
      "206 : 11001110 : ce\n",
      "207 : 11001111 : cf\n",
      "208 : 11010000 : d0\n",
      "209 : 11010001 : d1\n",
      "210 : 11010010 : d2\n",
      "211 : 11010011 : d3\n",
      "212 : 11010100 : d4\n",
      "213 : 11010101 : d5\n",
      "214 : 11010110 : d6\n",
      "215 : 11010111 : d7\n",
      "216 : 11011000 : d8\n",
      "217 : 11011001 : d9\n",
      "218 : 11011010 : da\n",
      "219 : 11011011 : db\n",
      "220 : 11011100 : dc\n",
      "221 : 11011101 : dd\n",
      "222 : 11011110 : de\n",
      "223 : 11011111 : df\n",
      "224 : 11100000 : e0\n",
      "225 : 11100001 : e1\n",
      "226 : 11100010 : e2\n",
      "227 : 11100011 : e3\n",
      "228 : 11100100 : e4\n",
      "229 : 11100101 : e5\n",
      "230 : 11100110 : e6\n",
      "231 : 11100111 : e7\n",
      "232 : 11101000 : e8\n",
      "233 : 11101001 : e9\n",
      "234 : 11101010 : ea\n",
      "235 : 11101011 : eb\n",
      "236 : 11101100 : ec\n",
      "237 : 11101101 : ed\n",
      "238 : 11101110 : ee\n",
      "239 : 11101111 : ef\n",
      "240 : 11110000 : f0\n",
      "241 : 11110001 : f1\n",
      "242 : 11110010 : f2\n",
      "243 : 11110011 : f3\n",
      "244 : 11110100 : f4\n",
      "245 : 11110101 : f5\n",
      "246 : 11110110 : f6\n",
      "247 : 11110111 : f7\n",
      "248 : 11111000 : f8\n",
      "249 : 11111001 : f9\n",
      "250 : 11111010 : fa\n",
      "251 : 11111011 : fb\n",
      "252 : 11111100 : fc\n",
      "253 : 11111101 : fd\n",
      "254 : 11111110 : fe\n",
      "255 : 11111111 : ff\n"
     ]
    }
   ],
   "source": [
    "for a in range(256):\n",
    "    print(a,':',bin(a)[2:].zfill(8),':',hex(a)[2:])"
   ]
  },
  {
   "cell_type": "markdown",
   "id": "8e271c73",
   "metadata": {},
   "source": [
    "----\n",
    "## Blocks"
   ]
  },
  {
   "cell_type": "code",
   "execution_count": null,
   "id": "56bc4538",
   "metadata": {},
   "outputs": [],
   "source": [
    "message = 'ciphertext'\n",
    "ciphertext = message.encode('utf-8')\n",
    "keylength = 3\n",
    "\n",
    "blocks = [ciphertext[i:i+keylength] for i in range(0, len(ciphertext), keylength)]\n",
    "transposed = [bytes(t) for t in zip_longest(*blocks, fillvalue=0)]\n",
    "\n",
    "print(message)\n",
    "print(ciphertext)\n",
    "print(blocks)\n",
    "print(transposed)"
   ]
  },
  {
   "cell_type": "code",
   "execution_count": null,
   "id": "e625295f",
   "metadata": {},
   "outputs": [],
   "source": [
    "for t in zip_longest(*blocks, fillvalue=0):\n",
    "    for i in t:\n",
    "        print(chr(i))\n",
    "    #print(t)"
   ]
  },
  {
   "cell_type": "code",
   "execution_count": null,
   "id": "79e15800",
   "metadata": {},
   "outputs": [],
   "source": [
    "message = \"Allwissend bin ich nicht; doch viel ist mir bewusst!\"\n",
    "ciphertext = message.encode('utf-8')\n",
    "keylength = 7\n",
    "\n",
    "blocks = [ciphertext[i:i+keylength] for i in range(0, len(ciphertext), keylength)]\n",
    "transposed = [bytes(t) for t in zip_longest(*blocks, fillvalue=0)]\n",
    "\n",
    "print(message)\n",
    "print(ciphertext)\n",
    "print(blocks)\n",
    "print(transposed)"
   ]
  },
  {
   "cell_type": "code",
   "execution_count": null,
   "id": "21e277f6",
   "metadata": {},
   "outputs": [],
   "source": [
    "for bytes in ciphertext:\n",
    "    print(bytes,chr(bytes),' ',end='')"
   ]
  },
  {
   "cell_type": "code",
   "execution_count": null,
   "id": "3571e82c",
   "metadata": {},
   "outputs": [],
   "source": [
    "for i in blocks:\n",
    "    print(i)"
   ]
  },
  {
   "cell_type": "code",
   "execution_count": null,
   "id": "e160c7c6",
   "metadata": {},
   "outputs": [],
   "source": [
    "for i in transposed:\n",
    "    print(i)"
   ]
  },
  {
   "cell_type": "code",
   "execution_count": 3,
   "id": "50243013",
   "metadata": {},
   "outputs": [
    {
     "name": "stdout",
     "output_type": "stream",
     "text": [
      "<class 'bytes'>\n",
      "b'\\x00\\x00\\x00\\x00'\n"
     ]
    }
   ],
   "source": [
    "# Create empty bytes\n",
    "empty_bytes = bytes(4)\n",
    "print(type(empty_bytes))\n",
    "print(empty_bytes)"
   ]
  },
  {
   "cell_type": "code",
   "execution_count": 9,
   "id": "947ac25d",
   "metadata": {},
   "outputs": [
    {
     "name": "stdout",
     "output_type": "stream",
     "text": [
      "bytearray(b'\\x00\\x0f') <class 'bytearray'> 2\n",
      "bytearray(b'\\xff\\x0f\\xff')\n",
      "b'\\xff\\x0f\\xff'\n"
     ]
    }
   ],
   "source": [
    "# Cast bytes to bytearray\n",
    "mutable_bytes = bytearray(b'\\x00\\x0F')\n",
    "print(mutable_bytes,type(mutable_bytes),len(mutable_bytes))\n",
    "# Bytearray allows modification\n",
    "mutable_bytes[0] = 255\n",
    "mutable_bytes.append(255)\n",
    "print(mutable_bytes)\n",
    "\n",
    "# Cast bytearray back to bytes\n",
    "immutable_bytes = bytes(mutable_bytes)\n",
    "print(immutable_bytes)"
   ]
  },
  {
   "cell_type": "markdown",
   "id": "7580cddb",
   "metadata": {},
   "source": [
    "----"
   ]
  }
 ],
 "metadata": {
  "kernelspec": {
   "display_name": "Python 3 (ipykernel)",
   "language": "python",
   "name": "python3"
  },
  "language_info": {
   "codemirror_mode": {
    "name": "ipython",
    "version": 3
   },
   "file_extension": ".py",
   "mimetype": "text/x-python",
   "name": "python",
   "nbconvert_exporter": "python",
   "pygments_lexer": "ipython3",
   "version": "3.10.8"
  }
 },
 "nbformat": 4,
 "nbformat_minor": 5
}
