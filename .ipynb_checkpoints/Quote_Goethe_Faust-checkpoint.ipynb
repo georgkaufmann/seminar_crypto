{
 "cells": [
  {
   "cell_type": "markdown",
   "id": "9d464a1e",
   "metadata": {},
   "source": [
    "<table>\n",
    "<tr><td><img style=\"height: 150px;\" src=\"images/geo_hydro1.jpg\"></td>\n",
    "<td bgcolor=\"#FFFFFF\">\n",
    "    <p style=\"font-size: xx-large; font-weight: 900; line-height: 100%\">AG Dynamics of the Earth</p>\n",
    "    <p style=\"font-size: large; color: rgba(0,0,0,0.5);\">Juypter notebooks</p>\n",
    "    <p style=\"font-size: large; color: rgba(0,0,0,0.5);\">Georg Kaufmann</p>\n",
    "    </td>\n",
    "</tr>\n",
    "</table>"
   ]
  },
  {
   "cell_type": "markdown",
   "id": "78a52d02",
   "metadata": {},
   "source": [
    "# Quote \n",
    "----\n",
    "\n",
    "We start this notebook series with a quote from **Faust 1** from *Johann Wolfgang von Goethe*:"
   ]
  },
  {
   "cell_type": "markdown",
   "id": "6f257edc",
   "metadata": {},
   "source": [
    "~~~\n",
    "Am farbigen Abglanz haben wir das Leben.\n",
    "Allwissend bin ich nicht; doch viel ist mir bewusst! \n",
    "Alt wird man wohl, wer aber klug?\n",
    "Von Zeit zu Zeit seh´ich den Alten gern und hüte mich, mit ihm zu brechen.\n",
    "Anmut bringen wir ins Leben. Leget Anmut in das Geben. Leget Anmut ins Empfangen, Lieblich ist´s, den Wunsch erlangen. Und in stiller Tage Schranken. Höchst anmutig sei das Danken.\n",
    "Mein schönes Fräulein, darf ich wagen, Meinen Arm und Geleit Ihr anzutragen?\n",
    "Was glänzt, ist für den Augenblick geboren.\n",
    "Wo so ein Köpfchen keinen Ausgang sieht, stellt es sich gleich das Ende vor.\n",
    "Hoch ist der Doppelgewinn zu schätzen, barmherzig sein und sich zugleich ergetzen.\n",
    "Wer immer strebend sich bemüht, den können wir erlösen.\n",
    "~~~\n",
    "\n",
    "We store this quote into a string `message`, including the line breaks, using `\\n`.\n",
    "\n",
    "This **message** will be the text to crypt in the following notebooks ..."
   ]
  },
  {
   "cell_type": "code",
   "execution_count": 17,
   "id": "c633c87d",
   "metadata": {},
   "outputs": [
    {
     "name": "stdout",
     "output_type": "stream",
     "text": [
      "Am farbigen Abglanz haben wir das Leben.\n",
      "Allwissend bin ich nicht; doch viel ist mir bewusst!Alt wird man wohl, wer aber klug?\n",
      "Von Zeit zu Zeit seh´ich den Alten gern und hüte mich, mit ihm zu brechen.\n",
      "Anmut bringen wir ins Leben. Leget Anmut in das Geben. Leget Anmut ins Empfangen, Lieblich ist´s, den Wunsch erlangen. Und in stiller Tage Schranken. Höchst anmutig sei das Danken.\n",
      "Mein schönes Fräulein, darf ich wagen, Meinen Arm und Geleit Ihr anzutragen?\n",
      "Was glänzt, ist für den Augenblick geboren.\n",
      "Wo so ein Köpfchen keinen Ausgang sieht, stellt es sich gleich das Ende vor.\n",
      "Hoch ist der Doppelgewinn zu schätzen, barmherzig sein und sich zugleich ergetzen.\n",
      "Wer immer strebend sich bemüht, den können wir erlösen.\n",
      "- Johann Wolfgang von Goethe\n"
     ]
    }
   ],
   "source": [
    "message = \"Am farbigen Abglanz haben wir das Leben.\\n\"\n",
    "message += \"Allwissend bin ich nicht; doch viel ist mir bewusst!\"\n",
    "message += \"Alt wird man wohl, wer aber klug?\\n\"\n",
    "message += \"Von Zeit zu Zeit seh´ich den Alten gern und hüte mich, mit ihm zu brechen.\\n\"\n",
    "message += \"Anmut bringen wir ins Leben. Leget Anmut in das Geben. Leget Anmut ins Empfangen, Lieblich ist´s, den Wunsch erlangen. Und in stiller Tage Schranken. Höchst anmutig sei das Danken.\\n\"\n",
    "message += \"Mein schönes Fräulein, darf ich wagen, Meinen Arm und Geleit Ihr anzutragen?\\n\"\n",
    "message += \"Was glänzt, ist für den Augenblick geboren.\\n\"\n",
    "message += \"Wo so ein Köpfchen keinen Ausgang sieht, stellt es sich gleich das Ende vor.\\n\"\n",
    "message += \"Hoch ist der Doppelgewinn zu schätzen, barmherzig sein und sich zugleich ergetzen.\\n\"\n",
    "message += \"Wer immer strebend sich bemüht, den können wir erlösen.\\n\"\n",
    "message += \"- Johann Wolfgang von Goethe\"\n",
    "print(message)"
   ]
  },
  {
   "cell_type": "markdown",
   "id": "eceb02a2-b5f6-4ade-9f03-2827b63dfddf",
   "metadata": {},
   "source": [
    "----"
   ]
  }
 ],
 "metadata": {
  "kernelspec": {
   "display_name": "Python 3 (ipykernel)",
   "language": "python",
   "name": "python3"
  },
  "language_info": {
   "codemirror_mode": {
    "name": "ipython",
    "version": 3
   },
   "file_extension": ".py",
   "mimetype": "text/x-python",
   "name": "python",
   "nbconvert_exporter": "python",
   "pygments_lexer": "ipython3",
   "version": "3.11.3"
  }
 },
 "nbformat": 4,
 "nbformat_minor": 5
}
