{
 "cells": [
  {
   "cell_type": "markdown",
   "id": "f4b3ae77",
   "metadata": {},
   "source": [
    "<table>\n",
    "<tr><td><img style=\"height: 150px;\" src=\"images/geo_hydro1.jpg\"></td>\n",
    "<td bgcolor=\"#FFFFFF\">\n",
    "    <p style=\"font-size: xx-large; font-weight: 900; line-height: 100%\">AG Dynamics of the Earth</p>\n",
    "    <p style=\"font-size: large; color: rgba(0,0,0,0.5);\">Juypter notebooks</p>\n",
    "    <p style=\"font-size: large; color: rgba(0,0,0,0.5);\">Georg Kaufmann</p>\n",
    "    </td>\n",
    "</tr>\n",
    "</table>"
   ]
  },
  {
   "cell_type": "markdown",
   "id": "8f659d91",
   "metadata": {},
   "source": [
    "# RSA cryption\n",
    "----\n",
    "\n",
    "In this notebook, we introduce and discuss the **RSA crypto scheme**, which has been\n",
    "named from the initials of its inventors, Rivest–Shamir–Adleman.\n",
    "\n",
    "It is widely used for cryting messages and signatures, using a\n",
    "**public-private key** pair.\n",
    "\n",
    "It is based on the fact, that some operations, such as **prime factorisation** of a larger\n",
    "integer number, is very tedious, but recovering the number from **multiplication** of\n",
    "the primes is easy.\n",
    "\n",
    "This asymmetric behaviour is also known as **one-way function**: Easy to calculate in\n",
    "the forward direction, difficult in the reverse direction."
   ]
  },
  {
   "cell_type": "code",
   "execution_count": 1,
   "id": "e3874661",
   "metadata": {},
   "outputs": [],
   "source": [
    "import numpy as np\n",
    "import random\n",
    "import myCrypt"
   ]
  },
  {
   "cell_type": "markdown",
   "id": "37276b5a",
   "metadata": {},
   "source": [
    "----\n",
    "## Key generation\n",
    "\n",
    "[See also wikipedia...](https://en.wikipedia.org/wiki/RSA_(cryptosystem))\n",
    "\n",
    "- Choose two large prime numbers, $p$ and $q$, with $0.1 < |\\log p - \\log q| < 30$\n",
    "- Calculate RSA module $n=p q$\n",
    "- Calculate Euler function $\\Phi(n)=(p-1)(q-1)$\n",
    "- Choose integer number $e$, which is coprime to both $p-1$ and $q-1$\n",
    "- Calculate $d$ as modular inverse $d$, thus $e d \\equiv 1 \\mbox{ mod } \\Phi(n)$ has to hold.\n",
    "\n",
    "Then, we have obtained the **public-private key pair**:\n",
    "- **public key:** $(n,e)$\n",
    "- **private key:** $(n,d)$"
   ]
  },
  {
   "cell_type": "code",
   "execution_count": 28,
   "id": "af608635",
   "metadata": {},
   "outputs": [
    {
     "name": "stdout",
     "output_type": "stream",
     "text": [
      "11 13 143 23 47\n",
      "public key:   (8, 143, 23)\n",
      "private key:  (8, 143, 47)\n"
     ]
    }
   ],
   "source": [
    "keySize = 8\n",
    "p = 11#myCrypt.generateLargePrime(keySize)\n",
    "q = 13#myCrypt.generateLargePrime(keySize)\n",
    "n = p*q\n",
    "phi=(p-1)*(q-1)\n",
    "while True:\n",
    "    # Keep trying random numbers for e until one is valid.\n",
    "    e = random.randrange(2**(keySize-1),2**(keySize))\n",
    "    if myCrypt.greatestCommonDivisor(e, (p-1)*(q-1)) == 1:\n",
    "        break\n",
    "e=23\n",
    "d = pow(e,-1,phi)    \n",
    "print(p,q,n,e,d)\n",
    "\n",
    "publicKey = (keySize,n,e)\n",
    "privateKey = (keySize,n,d)\n",
    "\n",
    "print('public key:  ',publicKey)\n",
    "print('private key: ',privateKey)"
   ]
  },
  {
   "cell_type": "markdown",
   "id": "9ca93d77",
   "metadata": {},
   "source": [
    "----\n",
    "## Encrypt\n",
    "\n",
    "A **message** $m$ will be encrypted to a crypted message $c$, using the public key:\n",
    "$$\n",
    "c = m^e \\mbox{ mod } n\n",
    "$$"
   ]
  },
  {
   "cell_type": "code",
   "execution_count": 29,
   "id": "b107fdf4",
   "metadata": {},
   "outputs": [
    {
     "name": "stdout",
     "output_type": "stream",
     "text": [
      "52 Allwissend bin ich nicht; doch viel ist mir bewusst!\n"
     ]
    }
   ],
   "source": [
    "message = \"Allwissend bin ich nicht; doch viel ist mir bewusst!\"\n",
    "L=len(message)\n",
    "print(L,message)"
   ]
  },
  {
   "cell_type": "code",
   "execution_count": 30,
   "id": "03a540e8",
   "metadata": {},
   "outputs": [
    {
     "name": "stdout",
     "output_type": "stream",
     "text": [
      "Allwissend bin ich nicht; doch viel ist mir bewusst!\n",
      "(8, 143, 23)\n",
      "065036036124040136136030011133076054040011076040044026076011040044026051119076133067044026076105040030036076040136051076021040108076054030124013136136051132\n"
     ]
    }
   ],
   "source": [
    "def encrypt(message,publicKey,debug=False):\n",
    "    \"\"\"\n",
    "    RSA encryption of a string, using the locale\n",
    "    \"\"\"\n",
    "    print(message)\n",
    "    print(publicKey)\n",
    "    unicode = ''\n",
    "    encrypt = ''\n",
    "    for i in range(len(message)):\n",
    "        # get unicode position of character\n",
    "        unicode += str(ord(message[i])).zfill(3)\n",
    "        # encrypt with public key\n",
    "        #encrypt += str(ord(message[i])**publicKey[2] % publicKey[1]).zfill(3)\n",
    "        encrypt += str(pow(ord(message[i]),publicKey[2],publicKey[1])).zfill(3)\n",
    "    if (debug):\n",
    "        print(unicode)\n",
    "        print(encrypt)\n",
    "    return encrypt\n",
    "\n",
    "crypted_message = encrypt(message,publicKey)\n",
    "print(crypted_message)"
   ]
  },
  {
   "cell_type": "markdown",
   "id": "810f3c38",
   "metadata": {},
   "source": [
    "----\n",
    "## Decrypt\n",
    "\n",
    "A **crypted message** $c$ will be decrypted to a message $m$, using the private key:\n",
    "$$\n",
    "m = c^d \\mbox{ mod } n\n",
    "$$"
   ]
  },
  {
   "cell_type": "code",
   "execution_count": 32,
   "id": "15cb1b0c",
   "metadata": {},
   "outputs": [
    {
     "name": "stdout",
     "output_type": "stream",
     "text": [
      "Allwissend bin ich nicht; doch viel ist mir bewusst!\n"
     ]
    }
   ],
   "source": [
    "def decrypt(message,privateKey,debug=False):\n",
    "    \"\"\"\n",
    "    RSA encryption of a string, using the locale\n",
    "    \"\"\"\n",
    "    decrypted_message = ''\n",
    "    # separate crypted string into blocks of three, the locale positions\n",
    "    res = [message[i:i+3] for i in range(0,len(message),3)]\n",
    "    if (debug):\n",
    "        print(res)\n",
    "    # loop over all characters\n",
    "    for i in range(len(res)):\n",
    "        #pos= int(res[i])**privateKey[2] % privateKey[1]\n",
    "        pos= pow(int(res[i]),privateKey[2],privateKey[1])\n",
    "        if (debug):\n",
    "            print(int(res[i]),pos,' ',end='')\n",
    "        # convert to character from locale\n",
    "        character = chr(pos)\n",
    "        decrypted_message += str(character)\n",
    "    return decrypted_message\n",
    "\n",
    "decrypted_message = decrypt(crypted_message,privateKey,debug=False)\n",
    "print(decrypted_message)"
   ]
  },
  {
   "cell_type": "markdown",
   "id": "41f8930b",
   "metadata": {},
   "source": [
    "And longer text ..."
   ]
  },
  {
   "cell_type": "raw",
   "id": "62014b91",
   "metadata": {},
   "source": [
    "message = \"Am farbigen Abglanz haben wir das Leben.\\n\"\n",
    "message += \"Allwissend bin ich nicht; doch viel ist mir bewusst!\\n\"\n",
    "message += \"Alt wird man wohl, wer aber klug?\\n\"\n",
    "message += \"Von Zeit zu Zeit seh'ich den Alten gern und hüte mich, mit ihm zu brechen.\\n\"\n",
    "message += \"Anmut bringen wir ins Leben. Leget Anmut in das Geben. Leget Anmut ins Empfangen, Lieblich ist's, den Wunsch erlangen. Und in stiller Tage Schranken. Höchst anmutig sei das Danken.\\n\"\n",
    "message += \"Mein schönes Fräulein, darf ich wagen, Meinen Arm und Geleit Ihr anzutragen?\\n\"\n",
    "message += \"Was glänzt, ist für den Augenblick geboren.\\n\"\n",
    "message += \"Wo so ein Köpfchen keinen Ausgang sieht, stellt es sich gleich das Ende vor.\\n\"\n",
    "message += \"Hoch ist der Doppelgewinn zu schätzen, barmherzig sein und sich zugleich ergetzen.\\n\"\n",
    "message += \"Wer immer strebend sich bemüht, den können wir erlösen.\"\n",
    "print('=original=')\n",
    "print(message)\n",
    "\n",
    "#crypted_message = encrypt(message,publicKey)\n",
    "#decrypted_message = decrypt(crypted_message,privateKey)\n",
    "#print('=recovered=')\n",
    "#print(decrypted_message)"
   ]
  },
  {
   "cell_type": "markdown",
   "id": "63e1816f",
   "metadata": {},
   "source": [
    "----"
   ]
  }
 ],
 "metadata": {
  "kernelspec": {
   "display_name": "Python 3 (ipykernel)",
   "language": "python",
   "name": "python3"
  },
  "language_info": {
   "codemirror_mode": {
    "name": "ipython",
    "version": 3
   },
   "file_extension": ".py",
   "mimetype": "text/x-python",
   "name": "python",
   "nbconvert_exporter": "python",
   "pygments_lexer": "ipython3",
   "version": "3.10.8"
  }
 },
 "nbformat": 4,
 "nbformat_minor": 5
}
