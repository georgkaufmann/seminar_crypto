{
 "cells": [
  {
   "cell_type": "markdown",
   "id": "f4b3ae77",
   "metadata": {},
   "source": [
    "<table>\n",
    "<tr><td><img style=\"height: 150px;\" src=\"images/geo_hydro1.jpg\"></td>\n",
    "<td bgcolor=\"#FFFFFF\">\n",
    "    <p style=\"font-size: xx-large; font-weight: 900; line-height: 100%\">AG Dynamics of the Earth</p>\n",
    "    <p style=\"font-size: large; color: rgba(0,0,0,0.5);\">Juypter notebooks</p>\n",
    "    <p style=\"font-size: large; color: rgba(0,0,0,0.5);\">Georg Kaufmann</p>\n",
    "    </td>\n",
    "</tr>\n",
    "</table>"
   ]
  },
  {
   "cell_type": "markdown",
   "id": "8f659d91",
   "metadata": {},
   "source": [
    "# RSA cryption\n",
    "----\n",
    "\n",
    "In this notebook, we introduce and discuss the **RSA crypto scheme**, which has been\n",
    "named from the initials of its inventors, Rivest–Shamir–Adleman.\n",
    "\n",
    "It is widely used for cryting messages and signatures, using a\n",
    "**public-private key** pair.\n",
    "\n",
    "It is based on the fact, that some operations, such as **prime factorisation** of a larger\n",
    "integer number, is very tedious, but recovering the number from **multiplication** of\n",
    "the primes is easy.\n",
    "\n",
    "This asymmetric behaviour is also known as **one-way function**: Easy to calculate in\n",
    "the forward direction, difficult in the reverse direction."
   ]
  },
  {
   "cell_type": "code",
   "execution_count": 1,
   "id": "a405da26",
   "metadata": {},
   "outputs": [],
   "source": [
    "import numpy as np\n",
    "import myCrypt"
   ]
  },
  {
   "cell_type": "markdown",
   "id": "37276b5a",
   "metadata": {},
   "source": [
    "----\n",
    "## Key generation"
   ]
  },
  {
   "cell_type": "code",
   "execution_count": 2,
   "id": "efe92d7e",
   "metadata": {},
   "outputs": [
    {
     "name": "stdout",
     "output_type": "stream",
     "text": [
      "public key:   (512, 107993644845859851347467112280029333904638643163649322725026911881083159553452675331223221307605234701039411375030242200089590053483984042050543343534276590797530147074168181535436494886382008600402479123517688463843787079155999091187121903671407039595662862588295797159300153758684820236463385113718141493389, 12151408955618679073247420449126628314086160432751049340900562564254416146679780483119706032019893709098067294598606784807157861983069302638805147849967711)\n",
      "private key:  (512, 107993644845859851347467112280029333904638643163649322725026911881083159553452675331223221307605234701039411375030242200089590053483984042050543343534276590797530147074168181535436494886382008600402479123517688463843787079155999091187121903671407039595662862588295797159300153758684820236463385113718141493389, 92212055150040456552651434028281549975682663890726659589797247721677287530331893176115647091711561658526363321728755071775986200513153389572198742586675316225269518474287292025210861362406798431016646558899210240319168192147522720175301852591287976236903548673480725285905820783160875104481716468418881014143)\n"
     ]
    }
   ],
   "source": [
    "publicKey,privateKey = myCrypt.RSAcreateKeys(keySize=512)\n",
    "print('public key:  ',publicKey)\n",
    "print('private key: ',privateKey)"
   ]
  },
  {
   "cell_type": "code",
   "execution_count": 3,
   "id": "b107fdf4",
   "metadata": {},
   "outputs": [
    {
     "name": "stdout",
     "output_type": "stream",
     "text": [
      "=original=\n",
      "Allwissend bin ich nicht; doch viel ist mir bewusst!\n",
      "=recovered=\n",
      "Allwissend bin ich nicht; doch viel ist mir bewusst!\n"
     ]
    }
   ],
   "source": [
    "message = \"Allwissend bin ich nicht; doch viel ist mir bewusst!\"\n",
    "print('=original=')\n",
    "print(message)\n",
    "\n",
    "crypted = myCrypt.RSAencrypt(message,publicKey)\n",
    "decrypted = myCrypt.RSAdecrypt(crypted,privateKey)\n",
    "print('=recovered=')\n",
    "print(decrypted)"
   ]
  },
  {
   "cell_type": "markdown",
   "id": "41f8930b",
   "metadata": {},
   "source": [
    "And longer text ..."
   ]
  },
  {
   "cell_type": "code",
   "execution_count": 4,
   "id": "aaf50141",
   "metadata": {},
   "outputs": [
    {
     "name": "stdout",
     "output_type": "stream",
     "text": [
      "=original=\n",
      "Am farbigen Abglanz haben wir das Leben.\n",
      "Allwissend bin ich nicht; doch viel ist mir bewusst!\n",
      "Alt wird man wohl, wer aber klug?\n",
      "Von Zeit zu Zeit seh'ich den Alten gern und hüte mich, mit ihm zu brechen.\n",
      "Anmut bringen wir ins Leben. Leget Anmut in das Geben. Leget Anmut ins Empfangen, Lieblich ist's, den Wunsch erlangen. Und in stiller Tage Schranken. Höchst anmutig sei das Danken.\n",
      "Mein schönes Fräulein, darf ich wagen, Meinen Arm und Geleit Ihr anzutragen?\n",
      "Was glänzt, ist für den Augenblick geboren.\n",
      "Wo so ein Köpfchen keinen Ausgang sieht, stellt es sich gleich das Ende vor.\n",
      "Hoch ist der Doppelgewinn zu schätzen, barmherzig sein und sich zugleich ergetzen.\n",
      "Wer immer strebend sich bemüht, den können wir erlösen.\n",
      "- Johann Wolfgang von Goethe\n",
      "=recovered=\n",
      "Am farbigen Abglanz haben wir das Leben.\n",
      "Allwissend bin ich nicht; doch viel ist mir bewusst!\n",
      "Alt wird man wohl, wer aber klug?\n",
      "Von Zeit zu Zeit seh'ich den Alten gern und hüte mich, mit ihm zu brechen.\n",
      "Anmut bringen wir ins Leben. Leget Anmut in das Geben. Leget Anmut ins Empfangen, Lieblich ist's, den Wunsch erlangen. Und in stiller Tage Schranken. Höchst anmutig sei das Danken.\n",
      "Mein schönes Fräulein, darf ich wagen, Meinen Arm und Geleit Ihr anzutragen?\n",
      "Was glänzt, ist für den Augenblick geboren.\n",
      "Wo so ein Köpfchen keinen Ausgang sieht, stellt es sich gleich das Ende vor.\n",
      "Hoch ist der Doppelgewinn zu schätzen, barmherzig sein und sich zugleich ergetzen.\n",
      "Wer immer strebend sich bemüht, den können wir erlösen.\n",
      "- Johann Wolfgang von Goethe\n"
     ]
    }
   ],
   "source": [
    "message = \"Am farbigen Abglanz haben wir das Leben.\\n\"\n",
    "message += \"Allwissend bin ich nicht; doch viel ist mir bewusst!\\n\"\n",
    "message += \"Alt wird man wohl, wer aber klug?\\n\"\n",
    "message += \"Von Zeit zu Zeit seh'ich den Alten gern und hüte mich, mit ihm zu brechen.\\n\"\n",
    "message += \"Anmut bringen wir ins Leben. Leget Anmut in das Geben. Leget Anmut ins Empfangen, Lieblich ist's, den Wunsch erlangen. Und in stiller Tage Schranken. Höchst anmutig sei das Danken.\\n\"\n",
    "message += \"Mein schönes Fräulein, darf ich wagen, Meinen Arm und Geleit Ihr anzutragen?\\n\"\n",
    "message += \"Was glänzt, ist für den Augenblick geboren.\\n\"\n",
    "message += \"Wo so ein Köpfchen keinen Ausgang sieht, stellt es sich gleich das Ende vor.\\n\"\n",
    "message += \"Hoch ist der Doppelgewinn zu schätzen, barmherzig sein und sich zugleich ergetzen.\\n\"\n",
    "message += \"Wer immer strebend sich bemüht, den können wir erlösen.\\n\"\n",
    "message += \"- Johann Wolfgang von Goethe\"\n",
    "print('=original=')\n",
    "print(message)\n",
    "\n",
    "crypted = myCrypt.RSAencrypt(message,publicKey)\n",
    "decrypted = myCrypt.RSAdecrypt(crypted,privateKey)\n",
    "print('=recovered=')\n",
    "print(decrypted)"
   ]
  },
  {
   "cell_type": "markdown",
   "id": "63e1816f",
   "metadata": {},
   "source": [
    "----"
   ]
  }
 ],
 "metadata": {
  "kernelspec": {
   "display_name": "Python 3 (ipykernel)",
   "language": "python",
   "name": "python3"
  },
  "language_info": {
   "codemirror_mode": {
    "name": "ipython",
    "version": 3
   },
   "file_extension": ".py",
   "mimetype": "text/x-python",
   "name": "python",
   "nbconvert_exporter": "python",
   "pygments_lexer": "ipython3",
   "version": "3.10.8"
  }
 },
 "nbformat": 4,
 "nbformat_minor": 5
}
