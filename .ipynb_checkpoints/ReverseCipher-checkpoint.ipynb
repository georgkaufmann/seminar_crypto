{
 "cells": [
  {
   "cell_type": "markdown",
   "id": "f4b3ae77",
   "metadata": {},
   "source": [
    "<table>\n",
    "<tr><td><img style=\"height: 150px;\" src=\"images/geo_hydro1.jpg\"></td>\n",
    "<td bgcolor=\"#FFFFFF\">\n",
    "    <p style=\"font-size: xx-large; font-weight: 900; line-height: 100%\">AG Dynamics of the Earth</p>\n",
    "    <p style=\"font-size: large; color: rgba(0,0,0,0.5);\">Juypter notebooks</p>\n",
    "    <p style=\"font-size: large; color: rgba(0,0,0,0.5);\">Georg Kaufmann</p>\n",
    "    </td>\n",
    "</tr>\n",
    "</table>"
   ]
  },
  {
   "cell_type": "markdown",
   "id": "8f659d91",
   "metadata": {},
   "source": [
    "# Reverse cipher \n",
    "----\n",
    "\n",
    "In this notebook, we introduce one of the simplest crypting algorithms, the **reverse cipher** \n",
    "algorithm. It simply reverses the text ..."
   ]
  },
  {
   "cell_type": "markdown",
   "id": "37276b5a",
   "metadata": {},
   "source": [
    "----\n",
    "## Encrypting"
   ]
  },
  {
   "cell_type": "code",
   "execution_count": 5,
   "id": "d24b9472",
   "metadata": {},
   "outputs": [
    {
     "name": "stdout",
     "output_type": "stream",
     "text": [
      "52 Allwissend bin ich nicht; doch viel ist mir bewusst!\n"
     ]
    }
   ],
   "source": [
    "message = \"Allwissend bin ich nicht; doch viel ist mir bewusst!\"\n",
    "print(len(message),message)"
   ]
  },
  {
   "cell_type": "markdown",
   "id": "325e0fe5",
   "metadata": {},
   "source": [
    "In `python`, reversing a string is very simple, we count backwards:"
   ]
  },
  {
   "cell_type": "code",
   "execution_count": 6,
   "id": "64add2d3",
   "metadata": {},
   "outputs": [
    {
     "name": "stdout",
     "output_type": "stream",
     "text": [
      "!tssuweb rim tsi leiv hcod ;thcin hci nib dnessiwllA\n"
     ]
    }
   ],
   "source": [
    "crypted_message = message[::-1]\n",
    "print(crypted_message)"
   ]
  },
  {
   "cell_type": "markdown",
   "id": "c701b1a1",
   "metadata": {},
   "source": [
    "----\n",
    "## Decrypting\n",
    "\n",
    "Decrypting is the reverse operation."
   ]
  },
  {
   "cell_type": "code",
   "execution_count": 7,
   "id": "f4410560",
   "metadata": {},
   "outputs": [
    {
     "name": "stdout",
     "output_type": "stream",
     "text": [
      "Allwissend bin ich nicht; doch viel ist mir bewusst!\n"
     ]
    }
   ],
   "source": [
    "decrypted_message = crypted_message[::-1]\n",
    "print(decrypted_message)"
   ]
  },
  {
   "cell_type": "markdown",
   "id": "63e1816f",
   "metadata": {},
   "source": [
    "----"
   ]
  }
 ],
 "metadata": {
  "kernelspec": {
   "display_name": "Python 3 (ipykernel)",
   "language": "python",
   "name": "python3"
  },
  "language_info": {
   "codemirror_mode": {
    "name": "ipython",
    "version": 3
   },
   "file_extension": ".py",
   "mimetype": "text/x-python",
   "name": "python",
   "nbconvert_exporter": "python",
   "pygments_lexer": "ipython3",
   "version": "3.10.8"
  }
 },
 "nbformat": 4,
 "nbformat_minor": 5
}
