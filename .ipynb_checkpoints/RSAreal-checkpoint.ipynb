{
 "cells": [
  {
   "cell_type": "markdown",
   "id": "f4b3ae77",
   "metadata": {},
   "source": [
    "<table>\n",
    "<tr><td><img style=\"height: 150px;\" src=\"images/geo_hydro1.jpg\"></td>\n",
    "<td bgcolor=\"#FFFFFF\">\n",
    "    <p style=\"font-size: xx-large; font-weight: 900; line-height: 100%\">AG Dynamics of the Earth</p>\n",
    "    <p style=\"font-size: large; color: rgba(0,0,0,0.5);\">Juypter notebooks</p>\n",
    "    <p style=\"font-size: large; color: rgba(0,0,0,0.5);\">Georg Kaufmann</p>\n",
    "    </td>\n",
    "</tr>\n",
    "</table>"
   ]
  },
  {
   "cell_type": "markdown",
   "id": "8f659d91",
   "metadata": {},
   "source": [
    "# RSA cryption\n",
    "----\n",
    "\n",
    "In this notebook, we introduce and discuss the **RSA crypto scheme**, which has been\n",
    "named from the initials of its inventors, Rivest–Shamir–Adleman.\n",
    "\n",
    "It is widely used for cryting messages and signatures, using a\n",
    "**public-private key** pair.\n",
    "\n",
    "It is based on the fact, that some operations, such as **prime factorisation** of a larger\n",
    "integer number, is very tedious, but recovering the number from **multiplication** of\n",
    "the primes is easy.\n",
    "\n",
    "This asymmetric behaviour is also known as **one-way function**: Easy to calculate in\n",
    "the forward direction, difficult in the reverse direction."
   ]
  },
  {
   "cell_type": "code",
   "execution_count": 1,
   "id": "a405da26",
   "metadata": {},
   "outputs": [],
   "source": [
    "import numpy as np\n",
    "import random\n",
    "import myCrypt"
   ]
  },
  {
   "cell_type": "markdown",
   "id": "37276b5a",
   "metadata": {},
   "source": [
    "----\n",
    "## Key generation\n",
    "\n",
    "[See also wikipedia...](https://en.wikipedia.org/wiki/RSA_(cryptosystem))\n",
    "\n",
    "- Choose two large prime numbers, $p$ and $q$, with $0.1 < |\\log p - \\log q| < 30$\n",
    "- Calculate RSA module $n=p q$\n",
    "- Calculate Euler function $\\Phi(n)=(p-1)(q-1)$\n",
    "- Choose integer number $e$, which is coprime to both $p-1$ and $q-1$\n",
    "- Calculate $d$ as modular inverse $d$, thus $e d \\equiv 1 \\mbox{ mod } \\Phi(n)$ has to hold.\n",
    "\n",
    "Then, we have obtained the **public-private key pair**:\n",
    "- **public key:** $(n,e)$\n",
    "- **private key:** $(n,d)$"
   ]
  },
  {
   "cell_type": "code",
   "execution_count": 12,
   "id": "efe92d7e",
   "metadata": {},
   "outputs": [
    {
     "name": "stdout",
     "output_type": "stream",
     "text": [
      "public key:   (1024, 17782829011839022880687656773241845159399379535451665498307395217847056999502191894255860391769222824196630535147371794857802442162101740275743384874520820785901918137659130757557707959604165871693762856716206930969192371395657572743234109562358736852697178472663937345247615210848289482048467414189792142438858945629008957972384100558154625179825113318893715970621365756785276970312598545838792323975664112036958960688082422439683727293245389516397392641635694549055922993389151076513719297292437333162741741390006979138671492589430666973722183044556855507596885543348788464089168345916590644158980403281127661879409, 179325231562164543696639715639768876959477713303417396924757464922280162395020353399103299514588024712294194549245503742205505848698692808762847293222451650667563556172226180329827885578798799565469166404905151586680964035867624021989809758080521491371883151355484041203721215816602872081808079747211107683241)\n",
      "private key:  (1024, 17782829011839022880687656773241845159399379535451665498307395217847056999502191894255860391769222824196630535147371794857802442162101740275743384874520820785901918137659130757557707959604165871693762856716206930969192371395657572743234109562358736852697178472663937345247615210848289482048467414189792142438858945629008957972384100558154625179825113318893715970621365756785276970312598545838792323975664112036958960688082422439683727293245389516397392641635694549055922993389151076513719297292437333162741741390006979138671492589430666973722183044556855507596885543348788464089168345916590644158980403281127661879409, 3034013542990142834286892548432419920300880148926037677185234443446377714857972442138524795430542304073870779323588277126216525470474908523265075618576394295248342196503905349621127058844704756944114844128489016667188539609850564956628958618060970467706224092226436996035541100772187972240433211836622196650188423896148586943686804497722412540073409850441947976375932311934472605059690907904677300369128197487121498986644593825641090692058451747305533443907680279154030727119627317508352810902983108709269235999889358456037736592304602469126993991682394500410311948726752401854271399007797490857518412477002848736241)\n"
     ]
    }
   ],
   "source": [
    "def RSAcreateKeys(keySize=1024):\n",
    "    \"\"\"\n",
    "    create public-private key sequence for RSA crypting\n",
    "    \"\"\"\n",
    "    # generate two large prime\n",
    "    p = myCrypt.generateLargePrime(keySize)\n",
    "    q = myCrypt.generateLargePrime(keySize)\n",
    "    # calculate product of primes\n",
    "    n = p*q\n",
    "    # calculate phi-function\n",
    "    phi=(p-1)*(q-1)\n",
    "    # search number e, which is coprime to phi\n",
    "    while True:\n",
    "        # Keep trying random numbers for e until one is valid.\n",
    "        e = random.randrange(2**(keySize-1),2**(keySize))\n",
    "        if myCrypt.greatestCommonDivisor(e, (p-1)*(q-1)) == 1:\n",
    "            break\n",
    "    # calculate d as modular inverse e mod phi\n",
    "    d = pow(e,-1,phi)    \n",
    "    #print(p,q,n,e,d)\n",
    "    # save askey pair\n",
    "    publicKey = (keySize,n,e)\n",
    "    privateKey = (keySize,n,d)\n",
    "    return publicKey,privateKey\n",
    "\n",
    "keySize = 1024 #128\n",
    "publicKey,privateKey = RSAcreateKeys(keySize)\n",
    "print('public key:  ',publicKey)\n",
    "print('private key: ',privateKey)"
   ]
  },
  {
   "cell_type": "markdown",
   "id": "d2f36069",
   "metadata": {},
   "source": [
    "Check keys by converting simple integer `m` to crypted sequence `c` and back to `mback`:"
   ]
  },
  {
   "cell_type": "code",
   "execution_count": 13,
   "id": "93e08996",
   "metadata": {},
   "outputs": [
    {
     "name": "stdout",
     "output_type": "stream",
     "text": [
      "m:  1234567890123456789\n",
      "c:  12664402399318286157473036717901018229813839068534906943677672694299704940094881756417151436119371552420863176887877758331196839156455168321255100767883616676396936742454414674328974092150139844137293350182650597309728187088890302563178704163987045989809286425060216877085957161804391390672116824196052149306116216459201570985050155109764950796278534193049655572082808383305735952005014944435813800449698972611136745434460666036663297422023498525419215616753552718479474407093063157627884321412760005496139889942775630729604904107119890089625003483685690677547775181950540783480521640226824502069766008480557374514120\n",
      "m:  1234567890123456789\n"
     ]
    }
   ],
   "source": [
    "m=1234567890123456789\n",
    "print('m: ',m)\n",
    "keySize,n,e = publicKey\n",
    "keySize,n,d = privateKey\n",
    "c=pow(m,e,n)\n",
    "print('c: ',c)\n",
    "mback=pow(c,d,n)\n",
    "print('m: ',mback)"
   ]
  },
  {
   "cell_type": "markdown",
   "id": "9ca93d77",
   "metadata": {},
   "source": [
    "----\n",
    "## From string to bytes\n",
    "\n",
    "..."
   ]
  },
  {
   "cell_type": "code",
   "execution_count": 14,
   "id": "b107fdf4",
   "metadata": {},
   "outputs": [
    {
     "name": "stdout",
     "output_type": "stream",
     "text": [
      "52 Allwissend bin ich nicht; doch viel ist mir bewusst!\n"
     ]
    }
   ],
   "source": [
    "message = \"Allwissend bin ich nicht; doch viel ist mir bewusst!\"\n",
    "L=len(message)\n",
    "print(L,message)"
   ]
  },
  {
   "cell_type": "code",
   "execution_count": 15,
   "id": "36a065f4",
   "metadata": {},
   "outputs": [
    {
     "name": "stdout",
     "output_type": "stream",
     "text": [
      "b'Allwissend bin ich nicht; doch viel ist mir bewusst!'\n",
      "<class 'bytes'>\n",
      "65 => A  108 => l  108 => l  119 => w  105 => i  115 => s  115 => s  101 => e  110 => n  100 => d  32 =>    98 => b  105 => i  110 => n  32 =>    105 => i  99 => c  104 => h  32 =>    110 => n  105 => i  99 => c  104 => h  116 => t  59 => ;  32 =>    100 => d  111 => o  99 => c  104 => h  32 =>    118 => v  105 => i  101 => e  108 => l  32 =>    105 => i  115 => s  116 => t  32 =>    109 => m  105 => i  114 => r  32 =>    98 => b  101 => e  119 => w  117 => u  115 => s  115 => s  116 => t  33 => !  \n",
      "Allwissend bin ich nicht; doch viel ist mir bewusst!\n"
     ]
    }
   ],
   "source": [
    "messageBytes = message.encode('utf-8')\n",
    "print(messageBytes)\n",
    "print(type(messageBytes))\n",
    "for byte in messageBytes:\n",
    "    print(byte,'=>',chr(byte),' ',end='')\n",
    "print()\n",
    "    \n",
    "messageBack = messageBytes.decode()\n",
    "print(messageBack)"
   ]
  },
  {
   "cell_type": "markdown",
   "id": "27e7e8dc",
   "metadata": {},
   "source": [
    "----\n",
    "## Encrypt\n",
    "\n",
    "A **message** $m$ will be encrypted to a crypted message $c$, using the public key:\n",
    "$$\n",
    "c = m^e \\mbox{ mod } n\n",
    "$$"
   ]
  },
  {
   "cell_type": "code",
   "execution_count": 16,
   "id": "922153b2",
   "metadata": {
    "scrolled": false
   },
   "outputs": [
    {
     "name": "stdout",
     "output_type": "stream",
     "text": [
      "<class 'list'> 52\n"
     ]
    }
   ],
   "source": [
    "def RSAencrypt(message,publicKey,debug=False):\n",
    "    \"\"\"\n",
    "    RSA encryption of a string, using the locale\n",
    "    \"\"\"\n",
    "    keySize,n,e = publicKey\n",
    "    messageBytes = message.encode()\n",
    "    encrypt = []\n",
    "    for byte in messageBytes:\n",
    "        # encrypt with public key\n",
    "        encrypt.append(pow(byte,e,n))\n",
    "    if (debug):\n",
    "        print(encrypt)\n",
    "    return encrypt\n",
    "\n",
    "crypted = RSAencrypt(message,publicKey,debug=False)\n",
    "print(type(crypted),len(crypted))"
   ]
  },
  {
   "cell_type": "code",
   "execution_count": 17,
   "id": "16b37abb",
   "metadata": {},
   "outputs": [
    {
     "name": "stdout",
     "output_type": "stream",
     "text": [
      "<class 'str'> 52\n",
      "Allwissend bin ich nicht; doch viel ist mir bewusst!\n"
     ]
    }
   ],
   "source": [
    "def RSAdecrypt(crypted_message,privateKey,debug=False):\n",
    "    \"\"\"\n",
    "    RSA encryption of a string, using the locale\n",
    "    \"\"\"\n",
    "    keySize,n,d = privateKey\n",
    "    decrypt = []\n",
    "    for byte in crypted_message:\n",
    "        decrypt.append(pow(byte,d,n))\n",
    "    if (debug):\n",
    "        print(decrypt)\n",
    "    return bytearray(decrypt).decode()\n",
    "\n",
    "decrypted = RSAdecrypt(crypted,privateKey,debug=False)\n",
    "\n",
    "print(type(decrypted),len(decrypted))\n",
    "print(decrypted)"
   ]
  },
  {
   "cell_type": "markdown",
   "id": "41f8930b",
   "metadata": {},
   "source": [
    "And longer text ..."
   ]
  },
  {
   "cell_type": "code",
   "execution_count": 18,
   "id": "aaf50141",
   "metadata": {},
   "outputs": [
    {
     "name": "stdout",
     "output_type": "stream",
     "text": [
      "=original=\n",
      "Am farbigen Abglanz haben wir das Leben.\n",
      "Allwissend bin ich nicht; doch viel ist mir bewusst!\n",
      "Alt wird man wohl, wer aber klug?\n",
      "Von Zeit zu Zeit seh'ich den Alten gern und hüte mich, mit ihm zu brechen.\n",
      "Anmut bringen wir ins Leben. Leget Anmut in das Geben. Leget Anmut ins Empfangen, Lieblich ist's, den Wunsch erlangen. Und in stiller Tage Schranken. Höchst anmutig sei das Danken.\n",
      "Mein schönes Fräulein, darf ich wagen, Meinen Arm und Geleit Ihr anzutragen?\n",
      "Was glänzt, ist für den Augenblick geboren.\n",
      "Wo so ein Köpfchen keinen Ausgang sieht, stellt es sich gleich das Ende vor.\n",
      "Hoch ist der Doppelgewinn zu schätzen, barmherzig sein und sich zugleich ergetzen.\n",
      "Wer immer strebend sich bemüht, den können wir erlösen.\n",
      "- Johann Wolfgang von Goethe\n",
      "=recovered=\n",
      "Am farbigen Abglanz haben wir das Leben.\n",
      "Allwissend bin ich nicht; doch viel ist mir bewusst!\n",
      "Alt wird man wohl, wer aber klug?\n",
      "Von Zeit zu Zeit seh'ich den Alten gern und hüte mich, mit ihm zu brechen.\n",
      "Anmut bringen wir ins Leben. Leget Anmut in das Geben. Leget Anmut ins Empfangen, Lieblich ist's, den Wunsch erlangen. Und in stiller Tage Schranken. Höchst anmutig sei das Danken.\n",
      "Mein schönes Fräulein, darf ich wagen, Meinen Arm und Geleit Ihr anzutragen?\n",
      "Was glänzt, ist für den Augenblick geboren.\n",
      "Wo so ein Köpfchen keinen Ausgang sieht, stellt es sich gleich das Ende vor.\n",
      "Hoch ist der Doppelgewinn zu schätzen, barmherzig sein und sich zugleich ergetzen.\n",
      "Wer immer strebend sich bemüht, den können wir erlösen.\n",
      "- Johann Wolfgang von Goethe\n"
     ]
    }
   ],
   "source": [
    "message = \"Am farbigen Abglanz haben wir das Leben.\\n\"\n",
    "message += \"Allwissend bin ich nicht; doch viel ist mir bewusst!\\n\"\n",
    "message += \"Alt wird man wohl, wer aber klug?\\n\"\n",
    "message += \"Von Zeit zu Zeit seh'ich den Alten gern und hüte mich, mit ihm zu brechen.\\n\"\n",
    "message += \"Anmut bringen wir ins Leben. Leget Anmut in das Geben. Leget Anmut ins Empfangen, Lieblich ist's, den Wunsch erlangen. Und in stiller Tage Schranken. Höchst anmutig sei das Danken.\\n\"\n",
    "message += \"Mein schönes Fräulein, darf ich wagen, Meinen Arm und Geleit Ihr anzutragen?\\n\"\n",
    "message += \"Was glänzt, ist für den Augenblick geboren.\\n\"\n",
    "message += \"Wo so ein Köpfchen keinen Ausgang sieht, stellt es sich gleich das Ende vor.\\n\"\n",
    "message += \"Hoch ist der Doppelgewinn zu schätzen, barmherzig sein und sich zugleich ergetzen.\\n\"\n",
    "message += \"Wer immer strebend sich bemüht, den können wir erlösen.\\n\"\n",
    "message += \"- Johann Wolfgang von Goethe\"\n",
    "print('=original=')\n",
    "print(message)\n",
    "\n",
    "crypted = RSAencrypt(message,publicKey)\n",
    "decrypted = RSAdecrypt(crypted,privateKey)\n",
    "print('=recovered=')\n",
    "print(decrypted)"
   ]
  },
  {
   "cell_type": "markdown",
   "id": "63e1816f",
   "metadata": {},
   "source": [
    "----"
   ]
  }
 ],
 "metadata": {
  "kernelspec": {
   "display_name": "Python 3 (ipykernel)",
   "language": "python",
   "name": "python3"
  },
  "language_info": {
   "codemirror_mode": {
    "name": "ipython",
    "version": 3
   },
   "file_extension": ".py",
   "mimetype": "text/x-python",
   "name": "python",
   "nbconvert_exporter": "python",
   "pygments_lexer": "ipython3",
   "version": "3.10.8"
  }
 },
 "nbformat": 4,
 "nbformat_minor": 5
}
