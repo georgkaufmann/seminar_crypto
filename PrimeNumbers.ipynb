{
 "cells": [
  {
   "cell_type": "markdown",
   "id": "f4b3ae77",
   "metadata": {},
   "source": [
    "<table>\n",
    "<tr><td><img style=\"height: 150px;\" src=\"images/geo_hydro1.jpg\"></td>\n",
    "<td bgcolor=\"#FFFFFF\">\n",
    "    <p style=\"font-size: xx-large; font-weight: 900; line-height: 100%\">AG Dynamics of the Earth</p>\n",
    "    <p style=\"font-size: large; color: rgba(0,0,0,0.5);\">Juypter notebooks</p>\n",
    "    <p style=\"font-size: large; color: rgba(0,0,0,0.5);\">Georg Kaufmann</p>\n",
    "    </td>\n",
    "</tr>\n",
    "</table>"
   ]
  },
  {
   "cell_type": "markdown",
   "id": "8f659d91",
   "metadata": {},
   "source": [
    "# Create prime numbers \n",
    "----\n",
    "\n",
    "In this notebook, we introduce and create **prime numbers**. "
   ]
  },
  {
   "cell_type": "markdown",
   "id": "37276b5a",
   "metadata": {},
   "source": [
    "----\n",
    "## Prime numbers\n",
    "\n",
    "[See also wikipedia...](https://en.wikipedia.org/wiki/Prime_number)\n",
    "\n",
    "A **prime number** (or a prime) is a natural number greater than 1 that is **not** a product of two smaller natural numbers, e.g. <b style=color:red;>2,3,5,7,11</b>.\n",
    "\n",
    "The only **even** prime number is 2.\n",
    "\n",
    "The opposite of a prime number is called a **composite number**, e.g. \n",
    "<b style=color:green;>4,6,8,9,10,12</b>. "
   ]
  },
  {
   "cell_type": "code",
   "execution_count": 1,
   "id": "e21c3d1a",
   "metadata": {},
   "outputs": [],
   "source": [
    "import numpy as np\n",
    "import random\n",
    "import sys"
   ]
  },
  {
   "cell_type": "markdown",
   "id": "78a6f747",
   "metadata": {},
   "source": [
    "----\n",
    "## Simple prime number generator\n",
    "\n",
    "For a first s**simple** prime-number generator, we loop over integer number from\n",
    "[2,upper], with `upper` a maximum search number."
   ]
  },
  {
   "cell_type": "code",
   "execution_count": 2,
   "id": "e2f7099d",
   "metadata": {},
   "outputs": [],
   "source": [
    "def findPrimes_simple(upper=100):\n",
    "    \"\"\"\n",
    "    create list of prime numbers explicitely\n",
    "    using the modulo operator\n",
    "    \"\"\"\n",
    "    # set array of prime numbers to empty array\n",
    "    primes=[]\n",
    "    # loop over potential prime numbers\n",
    "    for n in range(2,upper):\n",
    "        # inner loop to check division\n",
    "        isprime=True\n",
    "        for i in range(2,n):\n",
    "            if ((n % i) == 0):\n",
    "                isprime=False\n",
    "               #break\n",
    "        if (isprime): primes.append(n)\n",
    "    return primes"
   ]
  },
  {
   "cell_type": "code",
   "execution_count": 6,
   "id": "18443df3",
   "metadata": {},
   "outputs": [
    {
     "name": "stdout",
     "output_type": "stream",
     "text": [
      "prime numbers:  [2, 3, 5, 7, 11, 13, 17, 19, 23, 29, 31, 37, 41, 43, 47, 53, 59, 61, 67, 71, 73, 79, 83, 89, 97]\n"
     ]
    }
   ],
   "source": [
    "primes = findPrimes_simple()\n",
    "print('prime numbers: ',primes)"
   ]
  },
  {
   "cell_type": "markdown",
   "id": "248be8f5",
   "metadata": {},
   "source": [
    "----\n",
    "## Check if number is prime\n",
    "\n",
    "Next, we discuss algorithms, which check, if a number is **prime**.\n",
    "\n",
    "### From tabulated numbers\n",
    "For a first approach, we can use the explicitely generated prime numbers above, and\n",
    "save them in a table."
   ]
  },
  {
   "cell_type": "code",
   "execution_count": 12,
   "id": "8ba38c43",
   "metadata": {},
   "outputs": [],
   "source": [
    "def isPrime_list(n):\n",
    "    # create list of prime numbers\n",
    "    primeList = findPrimes_simple(1000)\n",
    "    # check is number is larger than larest element in list\n",
    "    if (n > prime_list[-1]):\n",
    "        sys.exit('Error: number larger than maximum in tabulated primes')\n",
    "    # check if number is in list\n",
    "    if n in primeList:\n",
    "        return True\n",
    "    return False"
   ]
  },
  {
   "cell_type": "code",
   "execution_count": 24,
   "id": "4546071c",
   "metadata": {},
   "outputs": [
    {
     "name": "stdout",
     "output_type": "stream",
     "text": [
      "False\n",
      "True\n"
     ]
    },
    {
     "ename": "SystemExit",
     "evalue": "Error: number larger than maximum in tabulated primes",
     "output_type": "error",
     "traceback": [
      "An exception has occurred, use %tb to see the full traceback.\n",
      "\u001b[0;31mSystemExit\u001b[0m\u001b[0;31m:\u001b[0m Error: number larger than maximum in tabulated primes\n"
     ]
    }
   ],
   "source": [
    "print(isPrime_list(996))\n",
    "print(isPrime_list(997))\n",
    "print(isPrime_list(1000))"
   ]
  },
  {
   "cell_type": "markdown",
   "id": "56b20a8c",
   "metadata": {},
   "source": [
    "### Rabin-Miller method\n",
    "For testing if larger integer numbers are prime, an often used method is the \n",
    "**Rabin-Miller algorithm** [see wikipedia](https://de.wikipedia.org/wiki/Miller-Rabin-Test)."
   ]
  },
  {
   "cell_type": "code",
   "execution_count": 25,
   "id": "f95d6989",
   "metadata": {},
   "outputs": [],
   "source": [
    "def isPrimeRabinMiller(n):\n",
    "    \"\"\"\n",
    "    uses Rabin-Miller algorithm to estimate if n is a prime\n",
    "    \"\"\"\n",
    "    # check if number is even, then break\n",
    "    if n % 2 == 0: return False\n",
    "    \n",
    "    s = n - 1\n",
    "    t = 0\n",
    "    while s % 2 == 0:\n",
    "        # keep halving s while it is even (and use t\n",
    "        # to count how many times we halve s)\n",
    "        s = s // 2\n",
    "        t += 1\n",
    "    for trials in range(5): # try to falsify num's primality 5 times\n",
    "        a = random.randrange(2,n-1)\n",
    "        v = pow(a, s, n)\n",
    "        if v != 1: # this test does not apply if v is 1.\n",
    "            i = 0\n",
    "            while v != (n-1):\n",
    "                if i == t-1:\n",
    "                    return False\n",
    "                else:\n",
    "                    i += 1\n",
    "                    v = (v**2) % n\n",
    "    return True"
   ]
  },
  {
   "cell_type": "code",
   "execution_count": 26,
   "id": "760fb6b7",
   "metadata": {},
   "outputs": [
    {
     "name": "stdout",
     "output_type": "stream",
     "text": [
      "False\n",
      "True\n",
      "False\n",
      "False\n"
     ]
    }
   ],
   "source": [
    "print(isPrimeRabinMiller(996))\n",
    "print(isPrimeRabinMiller(997))\n",
    "print(isPrimeRabinMiller(1000))\n",
    "print(isPrimeRabinMiller(123456123456))"
   ]
  },
  {
   "cell_type": "code",
   "execution_count": 27,
   "id": "e247b24d",
   "metadata": {},
   "outputs": [],
   "source": [
    "def generateLargePrime(keysize=1024):\n",
    "    \"\"\"\n",
    "    Return a random prime number of keysize bits in size\n",
    "    \"\"\"\n",
    "    while True:\n",
    "        number = random.randrange(2**(keysize-1), 2**(keysize))\n",
    "        if isPrimeRabinMiller(number):\n",
    "            return number"
   ]
  },
  {
   "cell_type": "code",
   "execution_count": 28,
   "id": "6ba77f6b",
   "metadata": {},
   "outputs": [
    {
     "name": "stdout",
     "output_type": "stream",
     "text": [
      "keysize:  4  prime:  11\n",
      "keysize:  8  prime:  223\n",
      "keysize:  16  prime:  50023\n",
      "keysize:  32  prime:  3526486297\n",
      "keysize:  64  prime:  17820165545072249197\n",
      "keysize:  128  prime:  232338701271987777606779374207855196273\n"
     ]
    }
   ],
   "source": [
    "keysize_list=[4,8,16,32,64,128]\n",
    "for keysize in keysize_list:\n",
    "    prime = generateLargePrime(keysize)\n",
    "    print('keysize: ',keysize,' prime: ',prime)"
   ]
  },
  {
   "cell_type": "markdown",
   "id": "63e1816f",
   "metadata": {},
   "source": [
    "----"
   ]
  }
 ],
 "metadata": {
  "kernelspec": {
   "display_name": "Python 3 (ipykernel)",
   "language": "python",
   "name": "python3"
  },
  "language_info": {
   "codemirror_mode": {
    "name": "ipython",
    "version": 3
   },
   "file_extension": ".py",
   "mimetype": "text/x-python",
   "name": "python",
   "nbconvert_exporter": "python",
   "pygments_lexer": "ipython3",
   "version": "3.10.8"
  }
 },
 "nbformat": 4,
 "nbformat_minor": 5
}
