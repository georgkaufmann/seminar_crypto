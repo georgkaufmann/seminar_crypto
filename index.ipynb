{
 "cells": [
  {
   "cell_type": "markdown",
   "id": "72e2acc7",
   "metadata": {},
   "source": [
    "<table>\n",
    "<tr><td><img style=\"height: 150px;\" src=\"images/geo_hydro1.jpg\"></td>\n",
    "<td bgcolor=\"#FFFFFF\">\n",
    "    <p style=\"font-size: xx-large; font-weight: 900; line-height: 100%\">AG Dynamics of the Earth</p>\n",
    "    <p style=\"font-size: large; color: rgba(0,0,0,0.5);\">Juypter notebooks</p>\n",
    "    <p style=\"font-size: large; color: rgba(0,0,0,0.5);\">Georg Kaufmann</p>\n",
    "    </td>\n",
    "</tr>\n",
    "</table>"
   ]
  },
  {
   "cell_type": "markdown",
   "id": "71ea665e",
   "metadata": {},
   "source": [
    "# Crypting\n",
    "----\n",
    "*Georg Kaufmann,\n",
    "Geophysics Section,\n",
    "Institute of Geological Sciences,\n",
    "Freie Universität Berlin,\n",
    "Germany*\n",
    "\n",
    "**jupyter notebooks** on **prime numbers** and **crypting**. \n",
    "\n",
    "\n",
    "\n",
    "----\n",
    "## Content\n",
    "\n",
    "- [Introduction]\n",
    "    - [Quote](Quote_Goethe_Faust.ipynb)\n",
    "    - [char sets](Unicode.ipynb)\n",
    "    - [Bytes](Bytes.ipynb)\n",
    "\n",
    "- [Simple crypting]\n",
    "    - [Reverse cipher](ReverseCipher.ipynb)\n",
    "    - [Caesar's cipher](CaesarsCipher.ipynb)\n",
    "    - [RSA]\n",
    "    \n",
    "- [Prime numbers]\n",
    "    - [Modular arithmetics](ModularArithmetics.ipynb)\n",
    "    - [Prime numbers](PrimeNumbers.ipynb)\n",
    "    - [Coprime numbers, Greastest common divisor](CoprimeNumbers_GCD.ipynb)\n",
    "    \n",
    "\n",
    "- [RSA crypting]\n",
    "    - [Simple example (short key)](RSAsimple.ipynb)\n",
    "    - [Real example](RSAreal.ipynb)\n",
    "\n",
    "\n",
    "(01_prime_numbers.ipynb)\n",
    "- [Public-private keys](02_create_key_pair.ipynb)\n",
    "- [Encrypt message](03_encrypt_message.ipynb)\n",
    "- [Decrypt message](04_decrypt_message.ipynb)"
   ]
  },
  {
   "cell_type": "markdown",
   "id": "a00a13a1",
   "metadata": {},
   "source": [
    "----"
   ]
  }
 ],
 "metadata": {
  "kernelspec": {
   "display_name": "Python 3 (ipykernel)",
   "language": "python",
   "name": "python3"
  },
  "language_info": {
   "codemirror_mode": {
    "name": "ipython",
    "version": 3
   },
   "file_extension": ".py",
   "mimetype": "text/x-python",
   "name": "python",
   "nbconvert_exporter": "python",
   "pygments_lexer": "ipython3",
   "version": "3.11.3"
  }
 },
 "nbformat": 4,
 "nbformat_minor": 5
}
