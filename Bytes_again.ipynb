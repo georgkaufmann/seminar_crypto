{
 "cells": [
  {
   "cell_type": "code",
   "execution_count": 1,
   "id": "d5777fca",
   "metadata": {},
   "outputs": [
    {
     "name": "stdout",
     "output_type": "stream",
     "text": [
      "Hallöchen\n"
     ]
    }
   ],
   "source": [
    "text = 'Hallöchen'\n",
    "print(text)"
   ]
  },
  {
   "cell_type": "code",
   "execution_count": 6,
   "id": "bb281899",
   "metadata": {},
   "outputs": [
    {
     "name": "stdout",
     "output_type": "stream",
     "text": [
      "b'Hall\\xc3\\xb6chen'\n"
     ]
    }
   ],
   "source": [
    "text_encode = text.encode('utf8')\n",
    "print(text_encode)"
   ]
  },
  {
   "cell_type": "code",
   "execution_count": 10,
   "id": "f8492f75",
   "metadata": {},
   "outputs": [
    {
     "name": "stdout",
     "output_type": "stream",
     "text": [
      "72 0x48 H\n",
      "97 0x61 a\n",
      "108 0x6c l\n",
      "108 0x6c l\n",
      "195 0xc3 Ã\n",
      "182 0xb6 ¶\n",
      "99 0x63 c\n",
      "104 0x68 h\n",
      "101 0x65 e\n",
      "110 0x6e n\n"
     ]
    }
   ],
   "source": [
    "for i in text_encode:\n",
    "    print(i,hex(i),chr(i))"
   ]
  },
  {
   "cell_type": "code",
   "execution_count": 8,
   "id": "0a393def",
   "metadata": {},
   "outputs": [
    {
     "name": "stdout",
     "output_type": "stream",
     "text": [
      "Hallöchen\n"
     ]
    }
   ],
   "source": [
    "text_decode = text_encode.decode()\n",
    "print(text_decode)"
   ]
  },
  {
   "cell_type": "code",
   "execution_count": 26,
   "id": "6e5ef041",
   "metadata": {},
   "outputs": [
    {
     "name": "stdout",
     "output_type": "stream",
     "text": [
      "ö\n"
     ]
    }
   ],
   "source": [
    "text2=\"0xc3b6\"\n",
    "bytes_object = bytes.fromhex(text2[2:])\n",
    "print(bytes_object.decode(\"utf8\"))"
   ]
  },
  {
   "cell_type": "code",
   "execution_count": null,
   "id": "a61d3d2b",
   "metadata": {},
   "outputs": [],
   "source": []
  }
 ],
 "metadata": {
  "kernelspec": {
   "display_name": "Python 3 (ipykernel)",
   "language": "python",
   "name": "python3"
  },
  "language_info": {
   "codemirror_mode": {
    "name": "ipython",
    "version": 3
   },
   "file_extension": ".py",
   "mimetype": "text/x-python",
   "name": "python",
   "nbconvert_exporter": "python",
   "pygments_lexer": "ipython3",
   "version": "3.10.8"
  }
 },
 "nbformat": 4,
 "nbformat_minor": 5
}
